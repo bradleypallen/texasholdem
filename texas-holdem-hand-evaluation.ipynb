{
 "cells": [
  {
   "cell_type": "code",
   "execution_count": 1,
   "metadata": {},
   "outputs": [],
   "source": [
    "from texasholdem import Game, Deck, Hand, Card, Player"
   ]
  },
  {
   "cell_type": "code",
   "execution_count": 2,
   "metadata": {},
   "outputs": [
    {
     "name": "stdout",
     "output_type": "stream",
     "text": [
      "2: 10♠,4♦            100.00% win   0.00% tie   10♠,10♥,4♦,4♠,A♣ (ten up, ace kicker)\n",
      "0: 2♠,A♥               0.00% win   0.00% tie    A♥,A♣,10♥,6♠,5♦ (pair ace, ten, six, five kickers)\n",
      "1: 3♦,9♣               0.00% win   0.00% tie    A♣,10♥,9♣,6♠,5♦ (ace high)\n",
      "3: 9♦,3♣               0.00% win   0.00% tie    A♣,10♥,9♦,6♠,5♦ (ace high)\n",
      "4: 2♥,7♦               0.00% win   0.00% tie    A♣,10♥,7♦,6♠,5♦ (ace high)\n"
     ]
    }
   ],
   "source": [
    "game = Game([ Player(i) for i in range(5) ])\n",
    "game.play_hand()\n",
    "game.hand_summary()"
   ]
  },
  {
   "cell_type": "code",
   "execution_count": 3,
   "metadata": {},
   "outputs": [
    {
     "name": "stdout",
     "output_type": "stream",
     "text": [
      "Hand 14: showdown Q♥,4♠,6♣,2♣,3♥\n",
      "0: 9♣,5♣               0.00% win 100.00% tie     6♣,5♣,4♠,3♥,2♣ (six high straight)\n",
      "6: 3♦,5♥               0.00% win 100.00% tie     6♣,5♥,4♠,3♦,2♣ (six high straight)\n",
      "8: 5♦,K♥               0.00% win 100.00% tie     6♣,5♦,4♠,3♥,2♣ (six high straight)\n",
      "1: 2♥,10♠              0.00% win   0.00% tie    2♥,2♣,Q♥,10♠,6♣ (pair two, queen, ten, six kickers)\n",
      "2: 10♥,J♣              0.00% win   0.00% tie    Q♥,J♣,10♥,6♣,4♠ (queen high)\n",
      "3: 6♥,J♥               0.00% win   0.00% tie     6♥,6♣,Q♥,J♥,4♠ (pair six, queen, jack, four kickers)\n",
      "4: 4♥,7♥               0.00% win   0.00% tie     4♥,4♠,Q♥,7♥,6♣ (pair four, queen, seven, six kickers)\n",
      "5: 8♣,3♠               0.00% win   0.00% tie     3♠,3♥,Q♥,8♣,6♣ (pair three, queen, eight, six kickers)\n",
      "7: 2♦,10♦              0.00% win   0.00% tie    2♦,2♣,Q♥,10♦,6♣ (pair two, queen, ten, six kickers)\n",
      "\n",
      "Hand 26: showdown K♥,3♦,J♥,K♣,J♣\n",
      "5: 10♥,A♠              0.00% win 100.00% tie     K♥,K♣,J♥,J♣,A♠ (king up, ace kicker)\n",
      "6: A♥,3♠               0.00% win 100.00% tie     K♥,K♣,J♥,J♣,A♥ (king up, ace kicker)\n",
      "7: 10♠,A♦              0.00% win 100.00% tie     K♥,K♣,J♥,J♣,A♦ (king up, ace kicker)\n",
      "0: 6♥,5♠               0.00% win   0.00% tie     K♥,K♣,J♥,J♣,6♥ (king up, six kicker)\n",
      "1: 4♠,Q♥               0.00% win   0.00% tie     K♥,K♣,J♥,J♣,Q♥ (king up, queen kicker)\n",
      "2: 5♦,9♠               0.00% win   0.00% tie     K♥,K♣,J♥,J♣,9♠ (king up, nine kicker)\n",
      "3: 3♣,9♥               0.00% win   0.00% tie     K♥,K♣,J♥,J♣,9♥ (king up, nine kicker)\n",
      "4: 2♦,Q♦               0.00% win   0.00% tie     K♥,K♣,J♥,J♣,Q♦ (king up, queen kicker)\n",
      "8: 4♣,Q♠               0.00% win   0.00% tie     K♥,K♣,J♥,J♣,Q♠ (king up, queen kicker)\n",
      "\n",
      "Hand 32: showdown 7♠,2♠,3♥,6♥,5♣\n",
      "2: A♥,4♣               0.00% win 100.00% tie     7♠,6♥,5♣,4♣,3♥ (seven high straight)\n",
      "4: 6♣,4♠               0.00% win 100.00% tie     7♠,6♣,5♣,4♠,3♥ (seven high straight)\n",
      "0: 8♥,Q♣               0.00% win   0.00% tie     Q♣,8♥,7♠,6♥,5♣ (queen high)\n",
      "1: A♠,7♦               0.00% win   0.00% tie     7♦,7♠,A♠,6♥,5♣ (pair seven, ace, six, five kickers)\n",
      "3: 3♦,A♦               0.00% win   0.00% tie     3♦,3♥,A♦,7♠,6♥ (pair three, ace, seven, six kickers)\n",
      "5: A♣,9♠               0.00% win   0.00% tie     A♣,9♠,7♠,6♥,5♣ (ace high)\n",
      "6: 3♠,K♠               0.00% win   0.00% tie     3♠,3♥,K♠,7♠,6♥ (pair three, king, seven, six kickers)\n",
      "7: K♥,9♣               0.00% win   0.00% tie     K♥,9♣,7♠,6♥,5♣ (king high)\n",
      "8: 10♠,7♣              0.00% win   0.00% tie    7♣,7♠,10♠,6♥,5♣ (pair seven, ten, six, five kickers)\n",
      "\n",
      "Hand 41: showdown 3♠,5♥,Q♣,4♣,7♠\n",
      "0: 6♠,Q♦               0.00% win 100.00% tie     7♠,6♠,5♥,4♣,3♠ (seven high straight)\n",
      "4: 6♣,9♦               0.00% win 100.00% tie     7♠,6♣,5♥,4♣,3♠ (seven high straight)\n",
      "1: 8♥,10♥              0.00% win   0.00% tie    Q♣,10♥,8♥,7♠,5♥ (queen high)\n",
      "2: K♥,10♠              0.00% win   0.00% tie    K♥,Q♣,10♠,7♠,5♥ (king high)\n",
      "3: 8♠,2♠               0.00% win   0.00% tie     Q♣,8♠,7♠,5♥,4♣ (queen high)\n",
      "5: 8♣,10♣              0.00% win   0.00% tie    Q♣,10♣,8♣,7♠,5♥ (queen high)\n",
      "6: 2♣,9♣               0.00% win   0.00% tie     Q♣,9♣,7♠,5♥,4♣ (queen high)\n",
      "7: 4♦,4♠               0.00% win   0.00% tie     4♦,4♠,4♣,Q♣,7♠ (four trip, queen, seven kickers)\n",
      "8: 3♥,K♦               0.00% win   0.00% tie     3♥,3♠,K♦,Q♣,7♠ (pair three, king, queen, seven kickers)\n",
      "\n",
      "Hand 52: showdown Q♦,J♥,5♦,K♠,10♠\n",
      "1: A♦,3♠               0.00% win 100.00% tie    A♦,K♠,Q♦,J♥,10♠ (ace high straight)\n",
      "7: A♣,8♠               0.00% win 100.00% tie    A♣,K♠,Q♦,J♥,10♠ (ace high straight)\n",
      "0: 2♣,10♦              0.00% win   0.00% tie   10♦,10♠,K♠,Q♦,J♥ (pair ten, king, queen, jack kickers)\n",
      "2: 4♥,Q♣               0.00% win   0.00% tie    Q♣,Q♦,K♠,J♥,10♠ (pair queen, king, jack, ten kickers)\n",
      "3: 6♠,10♥              0.00% win   0.00% tie   10♥,10♠,K♠,Q♦,J♥ (pair ten, king, queen, jack kickers)\n",
      "4: K♥,3♦               0.00% win   0.00% tie    K♥,K♠,Q♦,J♥,10♠ (pair king, queen, jack, ten kickers)\n",
      "5: 5♣,2♠               0.00% win   0.00% tie     5♣,5♦,K♠,Q♦,J♥ (pair five, king, queen, jack kickers)\n",
      "6: J♣,4♦               0.00% win   0.00% tie    J♣,J♥,K♠,Q♦,10♠ (pair jack, king, queen, ten kickers)\n",
      "8: K♦,3♥               0.00% win   0.00% tie    K♦,K♠,Q♦,J♥,10♠ (pair king, queen, jack, ten kickers)\n",
      "\n",
      "Hand 60: showdown 8♥,2♠,Q♥,7♦,Q♦\n",
      "1: 6♥,8♣               0.00% win 100.00% tie     Q♥,Q♦,8♣,8♥,7♦ (queen up, seven kicker)\n",
      "4: 2♦,8♠               0.00% win 100.00% tie     Q♥,Q♦,8♠,8♥,7♦ (queen up, seven kicker)\n",
      "0: J♣,9♦               0.00% win   0.00% tie     Q♥,Q♦,J♣,9♦,8♥ (pair queen, jack, nine, eight kickers)\n",
      "2: J♠,9♥               0.00% win   0.00% tie     Q♥,Q♦,J♠,9♥,8♥ (pair queen, jack, nine, eight kickers)\n",
      "3: 5♥,10♦              0.00% win   0.00% tie    Q♥,Q♦,10♦,8♥,7♦ (pair queen, ten, eight, seven kickers)\n",
      "5: 4♣,A♠               0.00% win   0.00% tie     Q♥,Q♦,A♠,8♥,7♦ (pair queen, ace, eight, seven kickers)\n",
      "6: A♥,K♦               0.00% win   0.00% tie     Q♥,Q♦,A♥,K♦,8♥ (pair queen, ace, king, eight kickers)\n",
      "7: 4♠,5♦               0.00% win   0.00% tie     Q♥,Q♦,8♥,7♦,5♦ (pair queen, eight, seven, five kickers)\n",
      "8: 10♠,J♦              0.00% win   0.00% tie    Q♥,Q♦,J♦,10♠,8♥ (pair queen, jack, ten, eight kickers)\n",
      "\n",
      "Hand 82: showdown A♠,A♥,J♥,7♦,Q♠\n",
      "1: Q♦,6♠               0.00% win 100.00% tie     A♠,A♥,Q♦,Q♠,J♥ (ace up, jack kicker)\n",
      "6: Q♣,5♣               0.00% win 100.00% tie     A♠,A♥,Q♣,Q♠,J♥ (ace up, jack kicker)\n",
      "0: 5♠,4♦               0.00% win   0.00% tie     A♠,A♥,Q♠,J♥,7♦ (pair ace, queen, jack, seven kickers)\n",
      "2: 3♦,10♥              0.00% win   0.00% tie    A♠,A♥,Q♠,J♥,10♥ (pair ace, queen, jack, ten kickers)\n",
      "3: 2♠,J♦               0.00% win   0.00% tie     A♠,A♥,J♦,J♥,Q♠ (ace up, queen kicker)\n",
      "4: 8♥,2♣               0.00% win   0.00% tie     A♠,A♥,Q♠,J♥,8♥ (pair ace, queen, jack, eight kickers)\n",
      "5: 3♠,K♠               0.00% win   0.00% tie     A♠,A♥,K♠,Q♠,J♥ (pair ace, king, queen, jack kickers)\n",
      "7: 6♦,7♠               0.00% win   0.00% tie     A♠,A♥,7♠,7♦,Q♠ (ace up, queen kicker)\n",
      "8: J♠,2♥               0.00% win   0.00% tie     A♠,A♥,J♠,J♥,Q♠ (ace up, queen kicker)\n",
      "\n"
     ]
    }
   ],
   "source": [
    "game = Game([ Player(i) for i in range(9) ])\n",
    "for i in range(100):\n",
    "    game.play_hand()\n",
    "    if game.is_a_tie():\n",
    "        print(f'Hand {i}: {game}')\n",
    "        game.hand_summary()\n",
    "        print()"
   ]
  },
  {
   "cell_type": "code",
   "execution_count": 4,
   "metadata": {},
   "outputs": [],
   "source": [
    "player = game.players()[0]"
   ]
  },
  {
   "cell_type": "code",
   "execution_count": 5,
   "metadata": {},
   "outputs": [
    {
     "data": {
      "text/plain": [
       "[<Card Q♠>, <Card 7♣>]"
      ]
     },
     "execution_count": 5,
     "metadata": {},
     "output_type": "execute_result"
    }
   ],
   "source": [
    "player.pocket()"
   ]
  },
  {
   "cell_type": "code",
   "execution_count": 6,
   "metadata": {},
   "outputs": [
    {
     "data": {
      "text/plain": [
       "<Game showdown Q♥,4♠,7♥,J♥,3♠>"
      ]
     },
     "execution_count": 6,
     "metadata": {},
     "output_type": "execute_result"
    }
   ],
   "source": [
    "game"
   ]
  },
  {
   "cell_type": "code",
   "execution_count": 7,
   "metadata": {},
   "outputs": [
    {
     "name": "stdout",
     "output_type": "stream",
     "text": [
      "showdown Q♥,4♠,7♥,J♥,3♠\n"
     ]
    }
   ],
   "source": [
    "print(game)"
   ]
  },
  {
   "cell_type": "code",
   "execution_count": 8,
   "metadata": {},
   "outputs": [
    {
     "data": {
      "text/plain": [
       "<Card A♦>"
      ]
     },
     "execution_count": 8,
     "metadata": {},
     "output_type": "execute_result"
    }
   ],
   "source": [
    "card = Card.from_string('ad')\n",
    "card"
   ]
  },
  {
   "cell_type": "code",
   "execution_count": 9,
   "metadata": {},
   "outputs": [
    {
     "name": "stdout",
     "output_type": "stream",
     "text": [
      "A♦\n"
     ]
    }
   ],
   "source": [
    "print(card)"
   ]
  },
  {
   "cell_type": "code",
   "execution_count": 10,
   "metadata": {},
   "outputs": [
    {
     "data": {
      "text/plain": [
       "True"
      ]
     },
     "execution_count": 10,
     "metadata": {},
     "output_type": "execute_result"
    }
   ],
   "source": [
    "card > Card.from_string('9h')"
   ]
  },
  {
   "cell_type": "code",
   "execution_count": 11,
   "metadata": {},
   "outputs": [],
   "source": [
    "pocket = [Card.from_string('jc'), \n",
    "          Card.from_string('9h'), \n",
    "          Card.from_string('kd')]"
   ]
  },
  {
   "cell_type": "code",
   "execution_count": 12,
   "metadata": {},
   "outputs": [
    {
     "data": {
      "text/plain": [
       "[<Card K♦>, <Card J♣>, <Card 9♥>]"
      ]
     },
     "execution_count": 12,
     "metadata": {},
     "output_type": "execute_result"
    }
   ],
   "source": [
    "sorted(pocket, reverse=True)"
   ]
  },
  {
   "cell_type": "code",
   "execution_count": 13,
   "metadata": {},
   "outputs": [
    {
     "data": {
      "text/plain": [
       "<Hand [<Card A♦>, <Card 5♣>, <Card 4♣>, <Card 3♥>, <Card 2♦>]>"
      ]
     },
     "execution_count": 13,
     "metadata": {},
     "output_type": "execute_result"
    }
   ],
   "source": [
    "hand = Hand([Card.from_string('ad'), \n",
    "             Card.from_string('5c'), \n",
    "             Card.from_string('3h'), \n",
    "             Card.from_string('4c'), \n",
    "             Card.from_string('2d') ])\n",
    "hand"
   ]
  },
  {
   "cell_type": "code",
   "execution_count": 14,
   "metadata": {},
   "outputs": [
    {
     "data": {
      "text/plain": [
       "<Hand [<Card A♦>, <Card 5♣>, <Card 4♣>, <Card 3♥>, <Card 2♦>]>"
      ]
     },
     "execution_count": 14,
     "metadata": {},
     "output_type": "execute_result"
    }
   ],
   "source": [
    "hand = Hand.from_string('ad,5c,3h,4c,2d')\n",
    "hand"
   ]
  },
  {
   "cell_type": "code",
   "execution_count": 15,
   "metadata": {},
   "outputs": [
    {
     "name": "stdout",
     "output_type": "stream",
     "text": [
      "5♣,4♣,3♥,2♦,A♦\n"
     ]
    }
   ],
   "source": [
    "print(hand)"
   ]
  },
  {
   "cell_type": "code",
   "execution_count": 16,
   "metadata": {},
   "outputs": [
    {
     "data": {
      "text/plain": [
       "[4, 3, 2, 1, 0, -1]"
      ]
     },
     "execution_count": 16,
     "metadata": {},
     "output_type": "execute_result"
    }
   ],
   "source": [
    "hand.value()"
   ]
  },
  {
   "cell_type": "code",
   "execution_count": 17,
   "metadata": {},
   "outputs": [
    {
     "data": {
      "text/plain": [
       "'5 high straight'"
      ]
     },
     "execution_count": 17,
     "metadata": {},
     "output_type": "execute_result"
    }
   ],
   "source": [
    "hand.description()"
   ]
  },
  {
   "cell_type": "code",
   "execution_count": 18,
   "metadata": {},
   "outputs": [
    {
     "data": {
      "text/plain": [
       "<bound method Hand.rank of <Hand [<Card A♦>, <Card 5♣>, <Card 4♣>, <Card 3♥>, <Card 2♦>]>>"
      ]
     },
     "execution_count": 18,
     "metadata": {},
     "output_type": "execute_result"
    }
   ],
   "source": [
    "hand.rank"
   ]
  },
  {
   "cell_type": "code",
   "execution_count": 19,
   "metadata": {},
   "outputs": [
    {
     "data": {
      "text/plain": [
       "<Card A♣>"
      ]
     },
     "execution_count": 19,
     "metadata": {},
     "output_type": "execute_result"
    }
   ],
   "source": [
    "Card.from_string('ac')"
   ]
  },
  {
   "cell_type": "code",
   "execution_count": 20,
   "metadata": {},
   "outputs": [],
   "source": [
    "cards = [card for cardset in [game.players()[0].pocket(), game.board()] for card in cardset]"
   ]
  },
  {
   "cell_type": "code",
   "execution_count": 21,
   "metadata": {},
   "outputs": [
    {
     "data": {
      "text/plain": [
       "[<Card Q♠>, <Card 7♣>, <Card Q♥>, <Card 4♠>, <Card 7♥>, <Card J♥>, <Card 3♠>]"
      ]
     },
     "execution_count": 21,
     "metadata": {},
     "output_type": "execute_result"
    }
   ],
   "source": [
    "cards"
   ]
  },
  {
   "cell_type": "code",
   "execution_count": 22,
   "metadata": {},
   "outputs": [
    {
     "data": {
      "text/plain": [
       "True"
      ]
     },
     "execution_count": 22,
     "metadata": {},
     "output_type": "execute_result"
    }
   ],
   "source": [
    "Hand.from_string('ah,kh,qh,jh,10h') == Hand.from_string('as,ks,qs,js,10s')"
   ]
  },
  {
   "cell_type": "code",
   "execution_count": 23,
   "metadata": {},
   "outputs": [
    {
     "name": "stdout",
     "output_type": "stream",
     "text": [
      "pre-flop \n",
      "2: Q♠,A♣              26.62% win   0.70% tie\n",
      "1: 4♥,5♦              19.36% win   0.16% tie\n",
      "4: Q♣,K♦              18.01% win   0.70% tie\n",
      "0: J♦,7♠              18.00% win   0.16% tie\n",
      "3: 6♥,10♦             17.31% win   0.16% tie\n",
      "CPU times: user 51.6 s, sys: 233 ms, total: 51.8 s\n",
      "Wall time: 52 s\n"
     ]
    }
   ],
   "source": [
    "%%time\n",
    "game = Game([ Player(i) for i in range(5) ])\n",
    "game.compulsory_bets()\n",
    "game.pre_flop()\n",
    "print(game)\n",
    "game.hand_summary()"
   ]
  },
  {
   "cell_type": "code",
   "execution_count": 24,
   "metadata": {},
   "outputs": [
    {
     "name": "stdout",
     "output_type": "stream",
     "text": [
      "flop K♣,2♦,6♦\n",
      "4: Q♣,K♦              47.37% win   0.00% tie\n",
      "1: 4♥,5♦              22.54% win   0.00% tie\n",
      "3: 6♥,10♦             17.00% win   0.00% tie\n",
      "2: Q♠,A♣              11.07% win   0.00% tie\n",
      "0: J♦,7♠               2.02% win   0.00% tie\n",
      "CPU times: user 4.69 s, sys: 31.6 ms, total: 4.72 s\n",
      "Wall time: 4.79 s\n"
     ]
    }
   ],
   "source": [
    "%%time\n",
    "game.flop()\n",
    "print(game)\n",
    "game.hand_summary()"
   ]
  },
  {
   "cell_type": "code",
   "execution_count": 25,
   "metadata": {},
   "outputs": [
    {
     "name": "stdout",
     "output_type": "stream",
     "text": [
      "turn K♣,2♦,6♦,7♣\n",
      "4: Q♣,K♦              44.74% win   0.00% tie\n",
      "1: 4♥,5♦              21.05% win   0.00% tie\n",
      "0: J♦,7♠              13.16% win   0.00% tie\n",
      "3: 6♥,10♦             13.16% win   0.00% tie\n",
      "2: Q♠,A♣               7.89% win   0.00% tie\n",
      "CPU times: user 207 ms, sys: 3.3 ms, total: 210 ms\n",
      "Wall time: 209 ms\n"
     ]
    }
   ],
   "source": [
    "%%time\n",
    "game.turn()\n",
    "print(game)\n",
    "game.hand_summary()"
   ]
  },
  {
   "cell_type": "code",
   "execution_count": 26,
   "metadata": {},
   "outputs": [
    {
     "name": "stdout",
     "output_type": "stream",
     "text": [
      "river K♣,2♦,6♦,7♣,6♠\n",
      "3: 6♥,10♦            100.00% win   0.00% tie    6♥,6♦,6♠,K♣,10♦ (six trip, king, ten kickers)\n",
      "0: J♦,7♠               0.00% win   0.00% tie     7♠,7♣,6♦,6♠,K♣ (seven up, king kicker)\n",
      "1: 4♥,5♦               0.00% win   0.00% tie     6♦,6♠,K♣,7♣,5♦ (pair six, king, seven, five kickers)\n",
      "2: Q♠,A♣               0.00% win   0.00% tie     6♦,6♠,A♣,K♣,Q♠ (pair six, ace, king, queen kickers)\n",
      "4: Q♣,K♦               0.00% win   0.00% tie     K♦,K♣,6♦,6♠,Q♣ (king up, queen kicker)\n",
      "CPU times: user 12.9 ms, sys: 1.24 ms, total: 14.2 ms\n",
      "Wall time: 13.2 ms\n"
     ]
    }
   ],
   "source": [
    "%%time\n",
    "game.river()\n",
    "print(game)\n",
    "game.hand_summary()"
   ]
  },
  {
   "cell_type": "code",
   "execution_count": 27,
   "metadata": {},
   "outputs": [
    {
     "data": {
      "text/plain": [
       "[(<Player id 0, pocket [<Card J♦>, <Card 7♠>]>, 0.0, 0.0),\n",
       " (<Player id 1, pocket [<Card 4♥>, <Card 5♦>]>, 0.0, 0.0),\n",
       " (<Player id 2, pocket [<Card Q♠>, <Card A♣>]>, 0.0, 0.0),\n",
       " (<Player id 3, pocket [<Card 6♥>, <Card 10♦>]>, 1.0, 0.0),\n",
       " (<Player id 4, pocket [<Card Q♣>, <Card K♦>]>, 0.0, 0.0)]"
      ]
     },
     "execution_count": 27,
     "metadata": {},
     "output_type": "execute_result"
    }
   ],
   "source": [
    "game.player_odds()"
   ]
  },
  {
   "cell_type": "code",
   "execution_count": 28,
   "metadata": {},
   "outputs": [],
   "source": [
    "def test_game_run(players, board):\n",
    "    test_game = Game(players, board=[])\n",
    "    test_game.hand_summary()\n",
    "    print()\n",
    "    test_game = Game(players, board=board[:3])\n",
    "    test_game.hand_summary()\n",
    "    print()\n",
    "    test_game = Game(players, board=board[:4])\n",
    "    test_game.hand_summary()\n",
    "    print()\n",
    "    test_game = Game(players, board=board)\n",
    "    test_game.hand_summary()"
   ]
  },
  {
   "cell_type": "code",
   "execution_count": 29,
   "metadata": {},
   "outputs": [
    {
     "name": "stdout",
     "output_type": "stream",
     "text": [
      "McClean: A♠,A♥        83.75% win   0.34% tie\n",
      "Negreanu: Q♦,10♣      15.91% win   0.34% tie\n",
      "\n",
      "McClean: A♠,A♥        82.42% win   0.00% tie\n",
      "Negreanu: Q♦,10♣      17.58% win   0.00% tie\n",
      "\n",
      "McClean: A♠,A♥        88.64% win   0.00% tie\n",
      "Negreanu: Q♦,10♣      11.36% win   0.00% tie\n",
      "\n",
      "McClean: A♠,A♥       100.00% win   0.00% tie     A♠,A♥,5♠,5♦,Q♠ (ace up, queen kicker)\n",
      "Negreanu: Q♦,10♣       0.00% win   0.00% tie    Q♦,Q♠,5♠,5♦,10♣ (queen up, ten kicker)\n"
     ]
    }
   ],
   "source": [
    "players = [Player(\"McClean\", pocket=[ Card.from_string('AS'), Card.from_string('AH') ]), \n",
    "           Player(\"Negreanu\", pocket=[ Card.from_string('QD'), Card.from_string('10C') ])]\n",
    "board = [ Card.from_string('4H'), Card.from_string('QS'), Card.from_string('5S'), Card.from_string('2C'), Card.from_string('5D') ]\n",
    "test_game_run(players, board)"
   ]
  },
  {
   "cell_type": "code",
   "execution_count": 30,
   "metadata": {},
   "outputs": [
    {
     "name": "stdout",
     "output_type": "stream",
     "text": [
      "Sexton: K♠,K♥         84.66% win   0.46% tie\n",
      "Negreanu: Q♥,2♥       14.88% win   0.46% tie\n",
      "\n",
      "Sexton: K♠,K♥         90.30% win   4.55% tie\n",
      "Negreanu: Q♥,2♥        5.15% win   4.55% tie\n",
      "\n",
      "Sexton: K♠,K♥         88.64% win   0.00% tie\n",
      "Negreanu: Q♥,2♥       11.36% win   0.00% tie\n",
      "\n",
      "Sexton: K♠,K♥        100.00% win   0.00% tie     K♠,K♥,5♠,5♥,7♣ (king up, seven kicker)\n",
      "Negreanu: Q♥,2♥        0.00% win   0.00% tie     5♠,5♥,2♥,2♣,Q♥ (five up, queen kicker)\n"
     ]
    }
   ],
   "source": [
    "players = [Player(\"Sexton\", pocket=[ Card.from_string('ks'), Card.from_string('kh') ]), \n",
    "           Player(\"Negreanu\", pocket=[ Card.from_string('qh'), Card.from_string('2h') ])]\n",
    "board = [ Card.from_string('5S'), Card.from_string('7C'), Card.from_string('6h'), Card.from_string('2C'), Card.from_string('5h') ]\n",
    "test_game_run(players, board)"
   ]
  },
  {
   "cell_type": "code",
   "execution_count": 31,
   "metadata": {},
   "outputs": [
    {
     "name": "stdout",
     "output_type": "stream",
     "text": [
      "Alice: K♦,K♥          86.09% win   0.45% tie\n",
      "Bob: Q♥,2♥            13.46% win   0.45% tie\n",
      "\n",
      "Alice: K♦,K♥          93.84% win   6.06% tie\n",
      "Bob: Q♥,2♥             0.10% win   6.06% tie\n",
      "\n",
      "Alice: K♦,K♥          72.73% win  27.27% tie\n",
      "Bob: Q♥,2♥             0.00% win  27.27% tie\n",
      "\n",
      "Alice: K♦,K♥           0.00% win 100.00% tie    10♠,J♠,Q♠,K♠,A♠ (royal flush)\n",
      "Bob: Q♥,2♥             0.00% win 100.00% tie    10♠,J♠,Q♠,K♠,A♠ (royal flush)\n"
     ]
    }
   ],
   "source": [
    "players = [Player(\"Alice\", pocket=[ Card.from_string('kd'), Card.from_string('kh') ]), \n",
    "           Player(\"Bob\", pocket=[ Card.from_string('qh'), Card.from_string('2h') ])]\n",
    "board = [ Card.from_string('AS'), Card.from_string('KS'), Card.from_string('QS'), Card.from_string('JS'), Card.from_string('10S') ]\n",
    "test_game_run(players, board)"
   ]
  }
 ],
 "metadata": {
  "kernelspec": {
   "display_name": "Python 3",
   "language": "python",
   "name": "python3"
  },
  "language_info": {
   "codemirror_mode": {
    "name": "ipython",
    "version": 3
   },
   "file_extension": ".py",
   "mimetype": "text/x-python",
   "name": "python",
   "nbconvert_exporter": "python",
   "pygments_lexer": "ipython3",
   "version": "3.7.6"
  }
 },
 "nbformat": 4,
 "nbformat_minor": 2
}
