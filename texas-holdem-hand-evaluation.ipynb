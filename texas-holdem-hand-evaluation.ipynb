{
 "cells": [
  {
   "cell_type": "code",
   "execution_count": 1,
   "metadata": {},
   "outputs": [],
   "source": [
    "from texasholdem import Game, Deck, Hand, Card, Player\n",
    "from itertools import combinations, chain\n",
    "from collections import Counter"
   ]
  },
  {
   "cell_type": "code",
   "execution_count": 2,
   "metadata": {},
   "outputs": [
    {
     "name": "stdout",
     "output_type": "stream",
     "text": [
      "4: 5♣,3♥             100.00% win   0.00% tie     5♣,5♥,3♥,3♠,K♥ (five up, king kicker)\n",
      "0: 8♦,J♣               0.00% win   0.00% tie     J♣,J♥,K♥,8♦,6♠ (pair jack, king, eight, six kickers)\n",
      "1: 2♣,10♠              0.00% win   0.00% tie    K♥,J♥,10♠,6♠,5♥ (king high)\n",
      "2: 8♣,10♦              0.00% win   0.00% tie    K♥,J♥,10♦,8♣,6♠ (king high)\n",
      "3: Q♦,4♦               0.00% win   0.00% tie     K♥,Q♦,J♥,6♠,5♥ (king high)\n"
     ]
    }
   ],
   "source": [
    "game = Game([ Player(i) for i in range(5) ])\n",
    "game.play_hand()\n",
    "game.hand_summary()"
   ]
  },
  {
   "cell_type": "code",
   "execution_count": 3,
   "metadata": {},
   "outputs": [
    {
     "name": "stdout",
     "output_type": "stream",
     "text": [
      "Hand 9: showdown K♦,K♥,A♠,6♥,8♣\n",
      "3: 4♥,K♣               0.00% win 100.00% tie     K♣,K♦,K♥,A♠,8♣ (king trip, ace, eight kickers)\n",
      "7: 4♣,K♠               0.00% win 100.00% tie     K♠,K♦,K♥,A♠,8♣ (king trip, ace, eight kickers)\n",
      "0: J♦,7♥               0.00% win   0.00% tie     K♦,K♥,A♠,J♦,8♣ (pair king, ace, jack, eight kickers)\n",
      "1: Q♦,2♥               0.00% win   0.00% tie     K♦,K♥,A♠,Q♦,8♣ (pair king, ace, queen, eight kickers)\n",
      "2: J♠,6♣               0.00% win   0.00% tie     K♦,K♥,6♣,6♥,A♠ (king up, ace kicker)\n",
      "4: 4♠,3♠               0.00% win   0.00% tie     K♦,K♥,A♠,8♣,6♥ (pair king, ace, eight, six kickers)\n",
      "5: 6♦,5♣               0.00% win   0.00% tie     K♦,K♥,6♦,6♥,A♠ (king up, ace kicker)\n",
      "6: 5♥,9♣               0.00% win   0.00% tie     K♦,K♥,A♠,9♣,8♣ (pair king, ace, nine, eight kickers)\n",
      "8: 10♦,7♦              0.00% win   0.00% tie    K♦,K♥,A♠,10♦,8♣ (pair king, ace, ten, eight kickers)\n",
      "\n",
      "Hand 14: showdown 10♥,7♥,6♣,10♠,8♠\n",
      "3: 5♥,9♣               0.00% win 100.00% tie    10♥,9♣,8♠,7♥,6♣ (ten high straight)\n",
      "6: 9♦,3♥               0.00% win 100.00% tie    10♥,9♦,8♠,7♥,6♣ (ten high straight)\n",
      "0: 6♠,K♠               0.00% win   0.00% tie   10♥,10♠,6♠,6♣,K♠ (ten up, king kicker)\n",
      "1: 4♥,Q♠               0.00% win   0.00% tie   10♥,10♠,Q♠,8♠,7♥ (pair ten, queen, eight, seven kickers)\n",
      "2: 7♦,A♠               0.00% win   0.00% tie   10♥,10♠,7♦,7♥,A♠ (ten up, ace kicker)\n",
      "4: 8♦,K♦               0.00% win   0.00% tie   10♥,10♠,8♦,8♠,K♦ (ten up, king kicker)\n",
      "5: 8♥,K♥               0.00% win   0.00% tie   10♥,10♠,8♥,8♠,K♥ (ten up, king kicker)\n",
      "7: 4♣,3♦               0.00% win   0.00% tie   10♥,10♠,8♠,7♥,6♣ (pair ten, eight, seven, six kickers)\n",
      "8: 2♠,6♥               0.00% win   0.00% tie   10♥,10♠,6♥,6♣,8♠ (ten up, eight kicker)\n",
      "\n",
      "Hand 17: showdown 5♣,5♥,A♣,10♠,4♥\n",
      "4: J♥,10♣              0.00% win 100.00% tie   10♣,10♠,5♣,5♥,A♣ (ten up, ace kicker)\n",
      "5: 10♦,7♣              0.00% win 100.00% tie   10♦,10♠,5♣,5♥,A♣ (ten up, ace kicker)\n",
      "0: 3♥,6♣               0.00% win   0.00% tie    5♣,5♥,A♣,10♠,6♣ (pair five, ace, ten, six kickers)\n",
      "1: 4♠,6♠               0.00% win   0.00% tie     5♣,5♥,4♠,4♥,A♣ (five up, ace kicker)\n",
      "2: K♥,9♦               0.00% win   0.00% tie    5♣,5♥,A♣,K♥,10♠ (pair five, ace, king, ten kickers)\n",
      "3: 3♦,6♦               0.00% win   0.00% tie    5♣,5♥,A♣,10♠,6♦ (pair five, ace, ten, six kickers)\n",
      "6: Q♥,J♣               0.00% win   0.00% tie     5♣,5♥,A♣,Q♥,J♣ (pair five, ace, queen, jack kickers)\n",
      "7: 9♠,3♠               0.00% win   0.00% tie    5♣,5♥,A♣,10♠,9♠ (pair five, ace, ten, nine kickers)\n",
      "8: J♠,2♣               0.00% win   0.00% tie    5♣,5♥,A♣,J♠,10♠ (pair five, ace, jack, ten kickers)\n",
      "\n",
      "Hand 41: showdown 3♦,5♥,7♣,4♠,3♥\n",
      "4: 6♥,K♣               0.00% win 100.00% tie     7♣,6♥,5♥,4♠,3♦ (seven high straight)\n",
      "8: 2♦,6♠               0.00% win 100.00% tie     7♣,6♠,5♥,4♠,3♦ (seven high straight)\n",
      "0: 4♣,2♠               0.00% win   0.00% tie     4♣,4♠,3♦,3♥,7♣ (four up, seven kicker)\n",
      "1: 9♦,5♠               0.00% win   0.00% tie     5♠,5♥,3♦,3♥,9♦ (five up, nine kicker)\n",
      "2: K♠,Q♦               0.00% win   0.00% tie     3♦,3♥,K♠,Q♦,7♣ (pair three, king, queen, seven kickers)\n",
      "3: K♦,J♥               0.00% win   0.00% tie     3♦,3♥,K♦,J♥,7♣ (pair three, king, jack, seven kickers)\n",
      "5: K♥,3♣               0.00% win   0.00% tie     3♣,3♦,3♥,K♥,7♣ (three trip, king, seven kickers)\n",
      "6: 8♠,A♥               0.00% win   0.00% tie     3♦,3♥,A♥,8♠,7♣ (pair three, ace, eight, seven kickers)\n",
      "7: 4♦,J♣               0.00% win   0.00% tie     4♦,4♠,3♦,3♥,J♣ (four up, jack kicker)\n",
      "\n",
      "Hand 42: showdown Q♣,10♣,J♦,4♠,J♠\n",
      "0: 7♦,Q♦               0.00% win 100.00% tie    Q♦,Q♣,J♦,J♠,10♣ (queen up, ten kicker)\n",
      "2: Q♠,6♥               0.00% win 100.00% tie    Q♠,Q♣,J♦,J♠,10♣ (queen up, ten kicker)\n",
      "6: Q♥,8♦               0.00% win 100.00% tie    Q♥,Q♣,J♦,J♠,10♣ (queen up, ten kicker)\n",
      "1: K♥,5♦               0.00% win   0.00% tie    J♦,J♠,K♥,Q♣,10♣ (pair jack, king, queen, ten kickers)\n",
      "3: 2♣,K♦               0.00% win   0.00% tie    J♦,J♠,K♦,Q♣,10♣ (pair jack, king, queen, ten kickers)\n",
      "4: 8♥,3♣               0.00% win   0.00% tie    J♦,J♠,Q♣,10♣,8♥ (pair jack, queen, ten, eight kickers)\n",
      "5: 10♦,9♣              0.00% win   0.00% tie   J♦,J♠,10♦,10♣,Q♣ (jack up, queen kicker)\n",
      "7: 2♦,5♥               0.00% win   0.00% tie    J♦,J♠,Q♣,10♣,5♥ (pair jack, queen, ten, five kickers)\n",
      "8: A♠,5♣               0.00% win   0.00% tie    J♦,J♠,A♠,Q♣,10♣ (pair jack, ace, queen, ten kickers)\n",
      "\n",
      "Hand 45: showdown 3♥,4♦,6♣,3♠,6♥\n",
      "3: 6♠,2♣               0.00% win 100.00% tie     6♠,6♣,6♥,3♥,3♠ (six over three)\n",
      "7: 2♠,6♦               0.00% win 100.00% tie     6♦,6♣,6♥,3♥,3♠ (six over three)\n",
      "0: 7♦,10♥              0.00% win   0.00% tie    6♣,6♥,3♥,3♠,10♥ (six up, ten kicker)\n",
      "1: 3♣,A♠               0.00% win   0.00% tie     3♣,3♥,3♠,6♣,6♥ (three over six)\n",
      "2: 9♣,J♣               0.00% win   0.00% tie     6♣,6♥,3♥,3♠,J♣ (six up, jack kicker)\n",
      "4: K♣,8♠               0.00% win   0.00% tie     6♣,6♥,3♥,3♠,K♣ (six up, king kicker)\n",
      "5: J♠,5♠               0.00% win   0.00% tie     6♣,6♥,3♥,3♠,J♠ (six up, jack kicker)\n",
      "6: 10♦,K♠              0.00% win   0.00% tie     6♣,6♥,3♥,3♠,K♠ (six up, king kicker)\n",
      "8: 9♦,8♦               0.00% win   0.00% tie     6♣,6♥,3♥,3♠,9♦ (six up, nine kicker)\n",
      "\n",
      "Hand 47: showdown A♦,K♥,10♥,K♦,4♦\n",
      "4: A♥,4♥               0.00% win 100.00% tie    A♥,A♦,K♥,K♦,10♥ (ace up, ten kicker)\n",
      "5: A♠,8♥               0.00% win 100.00% tie    A♠,A♦,K♥,K♦,10♥ (ace up, ten kicker)\n",
      "0: J♣,5♥               0.00% win   0.00% tie    K♥,K♦,A♦,J♣,10♥ (pair king, ace, jack, ten kickers)\n",
      "1: 9♣,Q♦               0.00% win   0.00% tie    K♥,K♦,A♦,Q♦,10♥ (pair king, ace, queen, ten kickers)\n",
      "2: 3♥,7♣               0.00% win   0.00% tie    K♥,K♦,A♦,10♥,7♣ (pair king, ace, ten, seven kickers)\n",
      "3: 2♦,4♠               0.00% win   0.00% tie     K♥,K♦,4♠,4♦,A♦ (king up, ace kicker)\n",
      "6: 10♦,Q♥              0.00% win   0.00% tie   K♥,K♦,10♦,10♥,A♦ (king up, ace kicker)\n",
      "7: J♦,3♠               0.00% win   0.00% tie    K♥,K♦,A♦,J♦,10♥ (pair king, ace, jack, ten kickers)\n",
      "8: J♠,9♦               0.00% win   0.00% tie    K♥,K♦,A♦,J♠,10♥ (pair king, ace, jack, ten kickers)\n",
      "\n",
      "Hand 51: showdown 10♥,A♠,4♥,3♣,5♣\n",
      "1: 8♠,2♦               0.00% win 100.00% tie     5♣,4♥,3♣,2♦,A♠ (5 high straight)\n",
      "8: 2♣,9♠               0.00% win 100.00% tie     5♣,4♥,3♣,2♣,A♠ (5 high straight)\n",
      "0: 7♣,J♦               0.00% win   0.00% tie    A♠,J♦,10♥,7♣,5♣ (ace high)\n",
      "2: 10♣,3♦              0.00% win   0.00% tie   10♣,10♥,3♦,3♣,A♠ (ten up, ace kicker)\n",
      "3: K♠,8♦               0.00% win   0.00% tie    A♠,K♠,10♥,8♦,5♣ (ace high)\n",
      "4: 8♣,6♠               0.00% win   0.00% tie    A♠,10♥,8♣,6♠,5♣ (ace high)\n",
      "5: 10♠,7♥              0.00% win   0.00% tie   10♠,10♥,A♠,7♥,5♣ (pair ten, ace, seven, five kickers)\n",
      "6: J♥,4♣               0.00% win   0.00% tie    4♣,4♥,A♠,J♥,10♥ (pair four, ace, jack, ten kickers)\n",
      "7: Q♠,3♠               0.00% win   0.00% tie    3♠,3♣,A♠,Q♠,10♥ (pair three, ace, queen, ten kickers)\n",
      "\n",
      "Hand 80: showdown J♠,10♣,3♦,4♣,9♦\n",
      "1: 8♦,Q♣               0.00% win 100.00% tie    Q♣,J♠,10♣,9♦,8♦ (queen high straight)\n",
      "7: Q♥,8♠               0.00% win 100.00% tie    Q♥,J♠,10♣,9♦,8♠ (queen high straight)\n",
      "0: 7♣,7♦               0.00% win   0.00% tie    7♣,7♦,J♠,10♣,9♦ (pair seven, jack, ten, nine kickers)\n",
      "2: K♥,6♣               0.00% win   0.00% tie    K♥,J♠,10♣,9♦,6♣ (king high)\n",
      "3: J♦,5♥               0.00% win   0.00% tie    J♦,J♠,10♣,9♦,5♥ (pair jack, ten, nine, five kickers)\n",
      "4: Q♠,10♥              0.00% win   0.00% tie   10♥,10♣,Q♠,J♠,9♦ (pair ten, queen, jack, nine kickers)\n",
      "5: 3♠,9♣               0.00% win   0.00% tie     9♣,9♦,3♠,3♦,J♠ (nine up, jack kicker)\n",
      "6: 3♣,K♦               0.00% win   0.00% tie    3♣,3♦,K♦,J♠,10♣ (pair three, king, jack, ten kickers)\n",
      "8: 5♦,4♦               0.00% win   0.00% tie    4♦,4♣,J♠,10♣,9♦ (pair four, jack, ten, nine kickers)\n",
      "\n",
      "Hand 98: showdown 4♣,K♠,2♣,3♣,5♦\n",
      "5: 6♣,9♠               0.00% win 100.00% tie     6♣,5♦,4♣,3♣,2♣ (six high straight)\n",
      "6: A♦,6♠               0.00% win 100.00% tie     6♠,5♦,4♣,3♣,2♣ (six high straight)\n",
      "0: 10♦,4♥              0.00% win   0.00% tie    4♥,4♣,K♠,10♦,5♦ (pair four, king, ten, five kickers)\n",
      "1: 9♣,7♦               0.00% win   0.00% tie     K♠,9♣,7♦,5♦,4♣ (king high)\n",
      "2: 10♥,2♠              0.00% win   0.00% tie    2♠,2♣,K♠,10♥,5♦ (pair two, king, ten, five kickers)\n",
      "3: Q♣,A♥               0.00% win   0.00% tie     5♦,4♣,3♣,2♣,A♥ (5 high straight)\n",
      "4: 10♠,K♣              0.00% win   0.00% tie    K♣,K♠,10♠,5♦,4♣ (pair king, ten, five, four kickers)\n",
      "7: A♣,5♠               0.00% win   0.00% tie     5♠,4♣,3♣,2♣,A♣ (5 high straight)\n",
      "8: Q♦,9♥               0.00% win   0.00% tie     K♠,Q♦,9♥,5♦,4♣ (king high)\n",
      "\n"
     ]
    },
    {
     "name": "stdout",
     "output_type": "stream",
     "text": [
      "Hand 109: showdown A♠,4♠,5♣,3♣,K♥\n",
      "0: 2♦,9♠               0.00% win 100.00% tie     5♣,4♠,3♣,2♦,A♠ (5 high straight)\n",
      "1: 2♥,J♥               0.00% win 100.00% tie     5♣,4♠,3♣,2♥,A♠ (5 high straight)\n",
      "6: 2♣,5♥               0.00% win 100.00% tie     5♥,4♠,3♣,2♣,A♠ (5 high straight)\n",
      "2: 9♦,9♥               0.00% win   0.00% tie     9♦,9♥,A♠,K♥,5♣ (pair nine, ace, king, five kickers)\n",
      "3: J♠,7♣               0.00% win   0.00% tie     A♠,K♥,J♠,7♣,5♣ (ace high)\n",
      "4: 10♣,7♠              0.00% win   0.00% tie    A♠,K♥,10♣,7♠,5♣ (ace high)\n",
      "5: 8♥,K♠               0.00% win   0.00% tie     K♠,K♥,A♠,8♥,5♣ (pair king, ace, eight, five kickers)\n",
      "7: 6♥,9♣               0.00% win   0.00% tie     A♠,K♥,9♣,6♥,5♣ (ace high)\n",
      "8: K♦,7♦               0.00% win   0.00% tie     K♦,K♥,A♠,7♦,5♣ (pair king, ace, seven, five kickers)\n",
      "\n",
      "Hand 123: showdown 6♣,6♥,9♠,6♠,3♥\n",
      "4: 3♠,Q♥               0.00% win 100.00% tie     6♣,6♥,6♠,3♠,3♥ (six over three)\n",
      "7: 3♦,5♣               0.00% win 100.00% tie     6♣,6♥,6♠,3♦,3♥ (six over three)\n",
      "0: 8♠,Q♠               0.00% win   0.00% tie     6♣,6♥,6♠,Q♠,9♠ (six trip, queen, nine kickers)\n",
      "1: 7♥,K♠               0.00% win   0.00% tie     6♣,6♥,6♠,K♠,9♠ (six trip, king, nine kickers)\n",
      "2: 10♥,5♦              0.00% win   0.00% tie    6♣,6♥,6♠,10♥,9♠ (six trip, ten, nine kickers)\n",
      "3: J♦,A♠               0.00% win   0.00% tie     6♣,6♥,6♠,A♠,J♦ (six trip, ace, jack kickers)\n",
      "5: A♥,8♦               0.00% win   0.00% tie     6♣,6♥,6♠,A♥,9♠ (six trip, ace, nine kickers)\n",
      "6: 4♣,7♣               0.00% win   0.00% tie     6♣,6♥,6♠,9♠,7♣ (six trip, nine, seven kickers)\n",
      "8: K♥,10♣              0.00% win   0.00% tie    6♣,6♥,6♠,K♥,10♣ (six trip, king, ten kickers)\n",
      "\n",
      "Hand 124: showdown 7♥,7♣,A♠,2♥,Q♦\n",
      "2: 7♠,6♠               0.00% win 100.00% tie     7♠,7♥,7♣,A♠,Q♦ (seven trip, ace, queen kickers)\n",
      "3: 7♦,3♥               0.00% win 100.00% tie     7♦,7♥,7♣,A♠,Q♦ (seven trip, ace, queen kickers)\n",
      "0: J♣,2♠               0.00% win   0.00% tie     7♥,7♣,2♠,2♥,A♠ (seven up, ace kicker)\n",
      "1: 6♦,4♦               0.00% win   0.00% tie     7♥,7♣,A♠,Q♦,6♦ (pair seven, ace, queen, six kickers)\n",
      "4: J♠,Q♥               0.00% win   0.00% tie     Q♥,Q♦,7♥,7♣,A♠ (queen up, ace kicker)\n",
      "5: J♦,9♦               0.00% win   0.00% tie     7♥,7♣,A♠,Q♦,J♦ (pair seven, ace, queen, jack kickers)\n",
      "6: 10♦,10♣             0.00% win   0.00% tie   10♦,10♣,7♥,7♣,A♠ (ten up, ace kicker)\n",
      "7: 2♦,J♥               0.00% win   0.00% tie     7♥,7♣,2♦,2♥,A♠ (seven up, ace kicker)\n",
      "8: 4♣,8♠               0.00% win   0.00% tie     7♥,7♣,A♠,Q♦,8♠ (pair seven, ace, queen, eight kickers)\n",
      "\n",
      "Hand 142: showdown K♥,10♠,9♣,J♠,A♣\n",
      "2: 9♠,Q♣               0.00% win 100.00% tie    A♣,K♥,Q♣,J♠,10♠ (ace high straight)\n",
      "8: 6♠,Q♦               0.00% win 100.00% tie    A♣,K♥,Q♦,J♠,10♠ (ace high straight)\n",
      "0: 3♠,5♦               0.00% win   0.00% tie    A♣,K♥,J♠,10♠,9♣ (ace high)\n",
      "1: 4♦,8♦               0.00% win   0.00% tie    A♣,K♥,J♠,10♠,9♣ (ace high)\n",
      "3: A♥,9♥               0.00% win   0.00% tie     A♥,A♣,9♥,9♣,K♥ (ace up, king kicker)\n",
      "4: 8♥,2♣               0.00% win   0.00% tie    A♣,K♥,J♠,10♠,9♣ (ace high)\n",
      "5: 3♣,6♣               0.00% win   0.00% tie    A♣,K♥,J♠,10♠,9♣ (ace high)\n",
      "6: A♦,3♦               0.00% win   0.00% tie    A♦,A♣,K♥,J♠,10♠ (pair ace, king, jack, ten kickers)\n",
      "7: 6♥,2♠               0.00% win   0.00% tie    A♣,K♥,J♠,10♠,9♣ (ace high)\n",
      "\n",
      "Hand 144: showdown A♠,9♣,8♠,7♦,10♠\n",
      "4: 2♦,J♥               0.00% win 100.00% tie    J♥,10♠,9♣,8♠,7♦ (jack high straight)\n",
      "6: 8♦,J♠               0.00% win 100.00% tie    J♠,10♠,9♣,8♦,7♦ (jack high straight)\n",
      "0: 10♦,6♦              0.00% win   0.00% tie    10♦,9♣,8♠,7♦,6♦ (ten high straight)\n",
      "1: 5♠,2♥               0.00% win   0.00% tie    A♠,10♠,9♣,8♠,7♦ (ace high)\n",
      "2: Q♠,5♦               0.00% win   0.00% tie    A♠,Q♠,10♠,9♣,8♠ (ace high)\n",
      "3: 7♥,7♣               0.00% win   0.00% tie    7♥,7♣,7♦,A♠,10♠ (seven trip, ace, ten kickers)\n",
      "5: 7♠,9♦               0.00% win   0.00% tie     9♦,9♣,7♠,7♦,A♠ (nine up, ace kicker)\n",
      "7: 3♠,10♥              0.00% win   0.00% tie   10♥,10♠,A♠,9♣,8♠ (pair ten, ace, nine, eight kickers)\n",
      "8: 9♥,K♣               0.00% win   0.00% tie    9♥,9♣,A♠,K♣,10♠ (pair nine, ace, king, ten kickers)\n",
      "\n",
      "Hand 146: showdown 5♥,3♦,6♣,4♣,A♠\n",
      "5: 7♥,A♣               0.00% win 100.00% tie     7♥,6♣,5♥,4♣,3♦ (seven high straight)\n",
      "6: A♥,7♣               0.00% win 100.00% tie     7♣,6♣,5♥,4♣,3♦ (seven high straight)\n",
      "0: 2♣,3♠               0.00% win   0.00% tie     6♣,5♥,4♣,3♠,2♣ (six high straight)\n",
      "1: 2♦,J♠               0.00% win   0.00% tie     6♣,5♥,4♣,3♦,2♦ (six high straight)\n",
      "2: J♦,K♣               0.00% win   0.00% tie     A♠,K♣,J♦,6♣,5♥ (ace high)\n",
      "3: 8♥,5♣               0.00% win   0.00% tie     5♣,5♥,A♠,8♥,6♣ (pair five, ace, eight, six kickers)\n",
      "4: J♥,K♥               0.00% win   0.00% tie     A♠,K♥,J♥,6♣,5♥ (ace high)\n",
      "7: 4♦,9♥               0.00% win   0.00% tie     4♦,4♣,A♠,9♥,6♣ (pair four, ace, nine, six kickers)\n",
      "8: 9♣,K♠               0.00% win   0.00% tie     A♠,K♠,9♣,6♣,5♥ (ace high)\n",
      "\n",
      "Hand 159: showdown J♦,J♠,8♣,10♥,K♥\n",
      "5: A♠,Q♣               0.00% win 100.00% tie    A♠,K♥,Q♣,J♦,10♥ (ace high straight)\n",
      "7: Q♠,A♥               0.00% win 100.00% tie    A♥,K♥,Q♠,J♦,10♥ (ace high straight)\n",
      "0: 7♠,J♥               0.00% win   0.00% tie    J♥,J♦,J♠,K♥,10♥ (jack trip, king, ten kickers)\n",
      "1: 6♣,J♣               0.00% win   0.00% tie    J♣,J♦,J♠,K♥,10♥ (jack trip, king, ten kickers)\n",
      "2: 9♥,4♦               0.00% win   0.00% tie    J♦,J♠,K♥,10♥,9♥ (pair jack, king, ten, nine kickers)\n",
      "3: 10♣,5♦              0.00% win   0.00% tie   J♦,J♠,10♣,10♥,K♥ (jack up, king kicker)\n",
      "4: 5♣,2♦               0.00% win   0.00% tie    J♦,J♠,K♥,10♥,8♣ (pair jack, king, ten, eight kickers)\n",
      "6: 3♦,8♠               0.00% win   0.00% tie     J♦,J♠,8♠,8♣,K♥ (jack up, king kicker)\n",
      "8: 2♣,K♠               0.00% win   0.00% tie    K♠,K♥,J♦,J♠,10♥ (king up, ten kicker)\n",
      "\n",
      "Hand 165: showdown 6♦,Q♠,J♦,K♥,Q♦\n",
      "7: 2♠,Q♥               0.00% win 100.00% tie     Q♥,Q♠,Q♦,K♥,J♦ (queen trip, king, jack kickers)\n",
      "8: 4♥,Q♣               0.00% win 100.00% tie     Q♣,Q♠,Q♦,K♥,J♦ (queen trip, king, jack kickers)\n",
      "0: 2♥,J♠               0.00% win   0.00% tie     Q♠,Q♦,J♠,J♦,K♥ (queen up, king kicker)\n",
      "1: 3♦,3♥               0.00% win   0.00% tie     Q♠,Q♦,3♦,3♥,K♥ (queen up, king kicker)\n",
      "2: 9♦,6♠               0.00% win   0.00% tie     Q♠,Q♦,6♠,6♦,K♥ (queen up, king kicker)\n",
      "3: 10♣,7♠              0.00% win   0.00% tie    Q♠,Q♦,K♥,J♦,10♣ (pair queen, king, jack, ten kickers)\n",
      "4: 5♠,2♦               0.00% win   0.00% tie     Q♠,Q♦,K♥,J♦,6♦ (pair queen, king, jack, six kickers)\n",
      "5: 2♣,10♠              0.00% win   0.00% tie    Q♠,Q♦,K♥,J♦,10♠ (pair queen, king, jack, ten kickers)\n",
      "6: 8♦,10♥              0.00% win   0.00% tie    Q♠,Q♦,K♥,J♦,10♥ (pair queen, king, jack, ten kickers)\n",
      "\n",
      "Hand 177: showdown 3♥,6♣,3♦,2♥,Q♥\n",
      "5: 4♣,Q♠               0.00% win 100.00% tie     Q♠,Q♥,3♥,3♦,6♣ (queen up, six kicker)\n",
      "7: 5♠,Q♣               0.00% win 100.00% tie     Q♣,Q♥,3♥,3♦,6♣ (queen up, six kicker)\n",
      "0: 7♥,10♠              0.00% win   0.00% tie    3♥,3♦,Q♥,10♠,7♥ (pair three, queen, ten, seven kickers)\n",
      "1: 4♦,8♥               0.00% win   0.00% tie     3♥,3♦,Q♥,8♥,6♣ (pair three, queen, eight, six kickers)\n",
      "2: 7♠,8♦               0.00% win   0.00% tie     3♥,3♦,Q♥,8♦,7♠ (pair three, queen, eight, seven kickers)\n",
      "3: 2♣,J♣               0.00% win   0.00% tie     3♥,3♦,2♣,2♥,Q♥ (three up, queen kicker)\n",
      "4: 4♥,8♣               0.00% win   0.00% tie     3♥,3♦,Q♥,8♣,6♣ (pair three, queen, eight, six kickers)\n",
      "6: A♦,2♠               0.00% win   0.00% tie     3♥,3♦,2♠,2♥,A♦ (three up, ace kicker)\n",
      "8: 4♠,10♥              0.00% win   0.00% tie    3♥,3♦,Q♥,10♥,6♣ (pair three, queen, ten, six kickers)\n",
      "\n",
      "Hand 178: showdown 8♦,6♦,7♣,7♥,K♠\n",
      "3: 8♣,2♥               0.00% win 100.00% tie     8♣,8♦,7♣,7♥,K♠ (eight up, king kicker)\n",
      "4: 9♦,8♥               0.00% win 100.00% tie     8♥,8♦,7♣,7♥,K♠ (eight up, king kicker)\n",
      "0: J♠,2♦               0.00% win   0.00% tie     7♣,7♥,K♠,J♠,8♦ (pair seven, king, jack, eight kickers)\n",
      "1: 4♣,4♠               0.00% win   0.00% tie     7♣,7♥,4♣,4♠,K♠ (seven up, king kicker)\n",
      "2: 5♠,10♥              0.00% win   0.00% tie    7♣,7♥,K♠,10♥,8♦ (pair seven, king, ten, eight kickers)\n",
      "5: 9♣,A♠               0.00% win   0.00% tie     7♣,7♥,A♠,K♠,9♣ (pair seven, ace, king, nine kickers)\n",
      "6: 10♠,J♥              0.00% win   0.00% tie    7♣,7♥,K♠,J♥,10♠ (pair seven, king, jack, ten kickers)\n",
      "7: 3♦,A♦               0.00% win   0.00% tie     7♣,7♥,A♦,K♠,8♦ (pair seven, ace, king, eight kickers)\n",
      "8: A♣,6♥               0.00% win   0.00% tie     7♣,7♥,6♥,6♦,A♣ (seven up, ace kicker)\n",
      "\n"
     ]
    },
    {
     "name": "stdout",
     "output_type": "stream",
     "text": [
      "Hand 212: showdown J♠,10♣,K♣,8♣,Q♠\n",
      "0: A♥,2♦               0.00% win 100.00% tie    A♥,K♣,Q♠,J♠,10♣ (ace high straight)\n",
      "2: 3♥,A♠               0.00% win 100.00% tie    A♠,K♣,Q♠,J♠,10♣ (ace high straight)\n",
      "1: 10♥,4♣              0.00% win   0.00% tie   10♥,10♣,K♣,Q♠,J♠ (pair ten, king, queen, jack kickers)\n",
      "3: 6♠,2♥               0.00% win   0.00% tie    K♣,Q♠,J♠,10♣,8♣ (king high)\n",
      "4: 9♣,Q♦               0.00% win   0.00% tie    K♣,Q♦,J♠,10♣,9♣ (king high straight)\n",
      "5: 7♥,2♣               0.00% win   0.00% tie    K♣,Q♠,J♠,10♣,8♣ (king high)\n",
      "6: 9♠,Q♥               0.00% win   0.00% tie    K♣,Q♥,J♠,10♣,9♠ (king high straight)\n",
      "7: 5♥,7♦               0.00% win   0.00% tie    K♣,Q♠,J♠,10♣,8♣ (king high)\n",
      "8: 9♦,3♣               0.00% win   0.00% tie    K♣,Q♠,J♠,10♣,9♦ (king high straight)\n",
      "\n",
      "Hand 218: showdown K♠,5♠,5♥,Q♠,8♣\n",
      "5: 5♦,J♦               0.00% win 100.00% tie     5♦,5♠,5♥,K♠,Q♠ (five trip, king, queen kickers)\n",
      "6: 5♣,7♦               0.00% win 100.00% tie     5♣,5♠,5♥,K♠,Q♠ (five trip, king, queen kickers)\n",
      "0: 10♣,6♠              0.00% win   0.00% tie    5♠,5♥,K♠,Q♠,10♣ (pair five, king, queen, ten kickers)\n",
      "1: 10♥,6♣              0.00% win   0.00% tie    5♠,5♥,K♠,Q♠,10♥ (pair five, king, queen, ten kickers)\n",
      "2: Q♥,6♦               0.00% win   0.00% tie     Q♥,Q♠,5♠,5♥,K♠ (queen up, king kicker)\n",
      "3: 8♥,Q♦               0.00% win   0.00% tie     Q♦,Q♠,8♥,8♣,K♠ (queen up, king kicker)\n",
      "4: 3♥,3♣               0.00% win   0.00% tie     5♠,5♥,3♥,3♣,K♠ (five up, king kicker)\n",
      "7: 2♦,9♥               0.00% win   0.00% tie     5♠,5♥,K♠,Q♠,9♥ (pair five, king, queen, nine kickers)\n",
      "8: 8♦,7♥               0.00% win   0.00% tie     8♦,8♣,5♠,5♥,K♠ (eight up, king kicker)\n",
      "\n",
      "Hand 223: showdown 10♦,2♣,A♠,A♦,Q♥\n",
      "6: Q♠,10♥              0.00% win 100.00% tie    A♠,A♦,Q♠,Q♥,10♥ (ace up, ten kicker)\n",
      "7: 9♣,Q♣               0.00% win 100.00% tie    A♠,A♦,Q♣,Q♥,10♦ (ace up, ten kicker)\n",
      "0: 9♥,5♣               0.00% win   0.00% tie    A♠,A♦,Q♥,10♦,9♥ (pair ace, queen, ten, nine kickers)\n",
      "1: 3♠,K♥               0.00% win   0.00% tie    A♠,A♦,K♥,Q♥,10♦ (pair ace, king, queen, ten kickers)\n",
      "2: K♠,10♣              0.00% win   0.00% tie   A♠,A♦,10♣,10♦,K♠ (ace up, king kicker)\n",
      "3: 6♥,2♠               0.00% win   0.00% tie     A♠,A♦,2♠,2♣,Q♥ (ace up, queen kicker)\n",
      "4: 3♦,4♠               0.00% win   0.00% tie    A♠,A♦,Q♥,10♦,4♠ (pair ace, queen, ten, four kickers)\n",
      "5: 3♣,J♣               0.00% win   0.00% tie    A♠,A♦,Q♥,J♣,10♦ (pair ace, queen, jack, ten kickers)\n",
      "8: 4♣,8♣               0.00% win   0.00% tie    A♠,A♦,Q♥,10♦,8♣ (pair ace, queen, ten, eight kickers)\n",
      "\n",
      "Hand 235: showdown 4♥,6♠,A♦,4♣,K♠\n",
      "3: K♥,4♦               0.00% win 100.00% tie     4♦,4♥,4♣,K♥,K♠ (four over king)\n",
      "5: 4♠,K♣               0.00% win 100.00% tie     4♠,4♥,4♣,K♣,K♠ (four over king)\n",
      "0: 9♦,8♥               0.00% win   0.00% tie     4♥,4♣,A♦,K♠,9♦ (pair four, ace, king, nine kickers)\n",
      "1: 8♠,7♦               0.00% win   0.00% tie     4♥,4♣,A♦,K♠,8♠ (pair four, ace, king, eight kickers)\n",
      "2: 2♠,10♣              0.00% win   0.00% tie    4♥,4♣,A♦,K♠,10♣ (pair four, ace, king, ten kickers)\n",
      "4: 2♥,J♦               0.00% win   0.00% tie     4♥,4♣,A♦,K♠,J♦ (pair four, ace, king, jack kickers)\n",
      "6: 3♦,Q♥               0.00% win   0.00% tie     4♥,4♣,A♦,K♠,Q♥ (pair four, ace, king, queen kickers)\n",
      "7: J♠,2♣               0.00% win   0.00% tie     4♥,4♣,A♦,K♠,J♠ (pair four, ace, king, jack kickers)\n",
      "8: K♦,Q♦               0.00% win   0.00% tie     K♦,K♠,4♥,4♣,A♦ (king up, ace kicker)\n",
      "\n",
      "Hand 243: showdown 2♥,6♥,5♦,K♦,2♦\n",
      "2: 6♠,10♦              0.00% win 100.00% tie     6♠,6♥,2♥,2♦,K♦ (six up, king kicker)\n",
      "4: Q♦,6♣               0.00% win 100.00% tie     6♣,6♥,2♥,2♦,K♦ (six up, king kicker)\n",
      "7: 3♣,6♦               0.00% win 100.00% tie     6♦,6♥,2♥,2♦,K♦ (six up, king kicker)\n",
      "0: Q♣,7♦               0.00% win   0.00% tie     2♥,2♦,K♦,Q♣,7♦ (pair two, king, queen, seven kickers)\n",
      "1: 5♣,8♥               0.00% win   0.00% tie     5♣,5♦,2♥,2♦,K♦ (five up, king kicker)\n",
      "3: 10♣,9♣              0.00% win   0.00% tie    2♥,2♦,K♦,10♣,9♣ (pair two, king, ten, nine kickers)\n",
      "5: 4♠,7♣               0.00% win   0.00% tie     2♥,2♦,K♦,7♣,6♥ (pair two, king, seven, six kickers)\n",
      "6: 10♥,A♦              0.00% win   0.00% tie    2♥,2♦,A♦,K♦,10♥ (pair two, ace, king, ten kickers)\n",
      "8: 3♦,A♠               0.00% win   0.00% tie     2♥,2♦,A♠,K♦,6♥ (pair two, ace, king, six kickers)\n",
      "\n",
      "Hand 245: showdown 4♠,4♥,6♠,6♦,J♣\n",
      "3: 4♣,A♦               0.00% win 100.00% tie     4♣,4♠,4♥,6♠,6♦ (four over six)\n",
      "6: Q♦,4♦               0.00% win 100.00% tie     4♦,4♠,4♥,6♠,6♦ (four over six)\n",
      "0: 9♦,3♦               0.00% win   0.00% tie     6♠,6♦,4♠,4♥,J♣ (six up, jack kicker)\n",
      "1: 9♣,5♦               0.00% win   0.00% tie     6♠,6♦,4♠,4♥,J♣ (six up, jack kicker)\n",
      "2: 8♥,10♥              0.00% win   0.00% tie     6♠,6♦,4♠,4♥,J♣ (six up, jack kicker)\n",
      "4: 3♠,7♦               0.00% win   0.00% tie     6♠,6♦,4♠,4♥,J♣ (six up, jack kicker)\n",
      "5: K♣,J♥               0.00% win   0.00% tie     J♥,J♣,6♠,6♦,K♣ (jack up, king kicker)\n",
      "7: 7♣,2♦               0.00% win   0.00% tie     6♠,6♦,4♠,4♥,J♣ (six up, jack kicker)\n",
      "8: A♣,J♠               0.00% win   0.00% tie     J♠,J♣,6♠,6♦,A♣ (jack up, ace kicker)\n",
      "\n",
      "Hand 254: showdown 5♣,J♠,9♥,9♠,A♣\n",
      "5: 8♥,J♥               0.00% win 100.00% tie     J♥,J♠,9♥,9♠,A♣ (jack up, ace kicker)\n",
      "6: 10♦,J♣              0.00% win 100.00% tie     J♣,J♠,9♥,9♠,A♣ (jack up, ace kicker)\n",
      "0: 4♣,2♣               0.00% win   0.00% tie     9♥,9♠,A♣,J♠,5♣ (pair nine, ace, jack, five kickers)\n",
      "1: 5♦,3♦               0.00% win   0.00% tie     9♥,9♠,5♦,5♣,A♣ (nine up, ace kicker)\n",
      "2: 8♣,10♣              0.00% win   0.00% tie    9♥,9♠,A♣,J♠,10♣ (pair nine, ace, jack, ten kickers)\n",
      "3: 10♥,6♠              0.00% win   0.00% tie    9♥,9♠,A♣,J♠,10♥ (pair nine, ace, jack, ten kickers)\n",
      "4: 5♥,10♠              0.00% win   0.00% tie     9♥,9♠,5♥,5♣,A♣ (nine up, ace kicker)\n",
      "7: 6♥,Q♦               0.00% win   0.00% tie     9♥,9♠,A♣,Q♦,J♠ (pair nine, ace, queen, jack kickers)\n",
      "8: K♠,7♠               0.00% win   0.00% tie     9♥,9♠,A♣,K♠,J♠ (pair nine, ace, king, jack kickers)\n",
      "\n",
      "Hand 267: showdown 3♦,7♣,3♠,7♠,6♦\n",
      "2: 4♣,7♥               0.00% win 100.00% tie     7♥,7♣,7♠,3♦,3♠ (seven over three)\n",
      "7: 7♦,2♦               0.00% win 100.00% tie     7♦,7♣,7♠,3♦,3♠ (seven over three)\n",
      "0: 8♦,A♦               0.00% win   0.00% tie     7♣,7♠,3♦,3♠,A♦ (seven up, ace kicker)\n",
      "1: K♦,Q♦               0.00% win   0.00% tie     7♣,7♠,3♦,3♠,K♦ (seven up, king kicker)\n",
      "3: 2♠,5♠               0.00% win   0.00% tie     7♣,7♠,3♦,3♠,6♦ (seven up, six kicker)\n",
      "4: Q♠,9♥               0.00% win   0.00% tie     7♣,7♠,3♦,3♠,Q♠ (seven up, queen kicker)\n",
      "5: 8♣,6♠               0.00% win   0.00% tie     7♣,7♠,6♠,6♦,8♣ (seven up, eight kicker)\n",
      "6: J♣,9♠               0.00% win   0.00% tie     7♣,7♠,3♦,3♠,J♣ (seven up, jack kicker)\n",
      "8: 2♥,3♣               0.00% win   0.00% tie     3♣,3♦,3♠,7♣,7♠ (three over seven)\n",
      "\n",
      "Hand 275: showdown 9♦,9♠,8♥,J♦,J♥\n",
      "1: 4♦,A♣               0.00% win 100.00% tie     J♦,J♥,9♦,9♠,A♣ (jack up, ace kicker)\n",
      "6: 10♠,A♥              0.00% win 100.00% tie     J♦,J♥,9♦,9♠,A♥ (jack up, ace kicker)\n",
      "0: 2♥,K♣               0.00% win   0.00% tie     J♦,J♥,9♦,9♠,K♣ (jack up, king kicker)\n",
      "2: 10♥,K♠              0.00% win   0.00% tie     J♦,J♥,9♦,9♠,K♠ (jack up, king kicker)\n",
      "3: 7♣,3♠               0.00% win   0.00% tie     J♦,J♥,9♦,9♠,8♥ (jack up, eight kicker)\n",
      "4: 8♣,4♣               0.00% win   0.00% tie     J♦,J♥,9♦,9♠,8♣ (jack up, eight kicker)\n",
      "5: Q♥,8♠               0.00% win   0.00% tie     J♦,J♥,9♦,9♠,Q♥ (jack up, queen kicker)\n",
      "7: 5♣,6♠               0.00% win   0.00% tie     J♦,J♥,9♦,9♠,8♥ (jack up, eight kicker)\n",
      "8: 3♦,Q♠               0.00% win   0.00% tie     J♦,J♥,9♦,9♠,Q♠ (jack up, queen kicker)\n",
      "\n",
      "Hand 291: showdown 3♠,K♣,4♠,7♥,6♠\n",
      "3: J♥,5♦               0.00% win 100.00% tie     7♥,6♠,5♦,4♠,3♠ (seven high straight)\n",
      "4: A♥,5♣               0.00% win 100.00% tie     7♥,6♠,5♣,4♠,3♠ (seven high straight)\n",
      "0: A♣,2♠               0.00% win   0.00% tie     A♣,K♣,7♥,6♠,4♠ (ace high)\n",
      "1: 3♥,2♣               0.00% win   0.00% tie     3♥,3♠,K♣,7♥,6♠ (pair three, king, seven, six kickers)\n",
      "2: 4♣,J♦               0.00% win   0.00% tie     4♣,4♠,K♣,J♦,7♥ (pair four, king, jack, seven kickers)\n",
      "5: 4♥,Q♠               0.00% win   0.00% tie     4♥,4♠,K♣,Q♠,7♥ (pair four, king, queen, seven kickers)\n",
      "6: 6♥,10♦              0.00% win   0.00% tie    6♥,6♠,K♣,10♦,7♥ (pair six, king, ten, seven kickers)\n",
      "7: 9♦,10♥              0.00% win   0.00% tie    K♣,10♥,9♦,7♥,6♠ (king high)\n",
      "8: K♦,10♠              0.00% win   0.00% tie    K♦,K♣,10♠,7♥,6♠ (pair king, ten, seven, six kickers)\n",
      "\n",
      "Hand 292: showdown A♠,7♥,9♠,10♣,6♥\n",
      "3: 8♠,3♥               0.00% win 100.00% tie    10♣,9♠,8♠,7♥,6♥ (ten high straight)\n",
      "6: 8♣,8♦               0.00% win 100.00% tie    10♣,9♠,8♣,7♥,6♥ (ten high straight)\n",
      "0: 10♠,J♦              0.00% win   0.00% tie   10♠,10♣,A♠,J♦,9♠ (pair ten, ace, jack, nine kickers)\n",
      "1: K♥,5♦               0.00% win   0.00% tie    A♠,K♥,10♣,9♠,7♥ (ace high)\n",
      "2: 7♣,K♠               0.00% win   0.00% tie    7♣,7♥,A♠,K♠,10♣ (pair seven, ace, king, ten kickers)\n",
      "4: Q♠,5♣               0.00% win   0.00% tie    A♠,Q♠,10♣,9♠,7♥ (ace high)\n",
      "5: A♥,5♠               0.00% win   0.00% tie    A♥,A♠,10♣,9♠,7♥ (pair ace, ten, nine, seven kickers)\n",
      "7: 2♠,9♣               0.00% win   0.00% tie    9♣,9♠,A♠,10♣,7♥ (pair nine, ace, ten, seven kickers)\n",
      "8: 4♥,K♦               0.00% win   0.00% tie    A♠,K♦,10♣,9♠,7♥ (ace high)\n",
      "\n"
     ]
    },
    {
     "name": "stdout",
     "output_type": "stream",
     "text": [
      "Hand 306: showdown 9♥,9♦,J♥,5♥,J♠\n",
      "2: J♦,K♠               0.00% win 100.00% tie     J♦,J♥,J♠,9♥,9♦ (jack over nine)\n",
      "5: 4♠,J♣               0.00% win 100.00% tie     J♣,J♥,J♠,9♥,9♦ (jack over nine)\n",
      "0: 7♦,8♠               0.00% win   0.00% tie     J♥,J♠,9♥,9♦,8♠ (jack up, eight kicker)\n",
      "1: 6♣,3♥               0.00% win   0.00% tie     J♥,J♠,9♥,9♦,6♣ (jack up, six kicker)\n",
      "3: 3♦,Q♥               0.00% win   0.00% tie     J♥,J♠,9♥,9♦,Q♥ (jack up, queen kicker)\n",
      "4: Q♦,9♠               0.00% win   0.00% tie     9♠,9♥,9♦,J♥,J♠ (nine over jack)\n",
      "6: 2♦,5♦               0.00% win   0.00% tie     J♥,J♠,9♥,9♦,5♦ (jack up, five kicker)\n",
      "7: 6♦,10♦              0.00% win   0.00% tie    J♥,J♠,9♥,9♦,10♦ (jack up, ten kicker)\n",
      "8: 2♠,A♠               0.00% win   0.00% tie     J♥,J♠,9♥,9♦,A♠ (jack up, ace kicker)\n",
      "\n",
      "Hand 338: showdown 4♠,9♦,J♣,10♠,7♣\n",
      "3: A♥,8♠               0.00% win 100.00% tie    J♣,10♠,9♦,8♠,7♣ (jack high straight)\n",
      "7: 8♥,K♠               0.00% win 100.00% tie    J♣,10♠,9♦,8♥,7♣ (jack high straight)\n",
      "0: K♦,3♣               0.00% win   0.00% tie    K♦,J♣,10♠,9♦,7♣ (king high)\n",
      "1: 7♦,Q♥               0.00% win   0.00% tie    7♦,7♣,Q♥,J♣,10♠ (pair seven, queen, jack, ten kickers)\n",
      "2: 4♦,J♥               0.00% win   0.00% tie    J♥,J♣,4♦,4♠,10♠ (jack up, ten kicker)\n",
      "4: 3♥,4♣               0.00% win   0.00% tie    4♣,4♠,J♣,10♠,9♦ (pair four, jack, ten, nine kickers)\n",
      "5: 5♦,9♥               0.00% win   0.00% tie    9♥,9♦,J♣,10♠,7♣ (pair nine, jack, ten, seven kickers)\n",
      "6: 7♠,6♣               0.00% win   0.00% tie    7♠,7♣,J♣,10♠,9♦ (pair seven, jack, ten, nine kickers)\n",
      "8: 6♥,6♦               0.00% win   0.00% tie    6♥,6♦,J♣,10♠,9♦ (pair six, jack, ten, nine kickers)\n",
      "\n",
      "Hand 341: showdown 10♣,4♦,Q♥,4♠,K♥\n",
      "5: 7♦,4♣               0.00% win 100.00% tie     4♣,4♦,4♠,K♥,Q♥ (four trip, king, queen kickers)\n",
      "7: 4♥,9♦               0.00% win 100.00% tie     4♥,4♦,4♠,K♥,Q♥ (four trip, king, queen kickers)\n",
      "0: A♣,K♦               0.00% win   0.00% tie     K♦,K♥,4♦,4♠,A♣ (king up, ace kicker)\n",
      "1: A♦,6♣               0.00% win   0.00% tie     4♦,4♠,A♦,K♥,Q♥ (pair four, ace, king, queen kickers)\n",
      "2: 10♦,J♥              0.00% win   0.00% tie   10♦,10♣,4♦,4♠,K♥ (ten up, king kicker)\n",
      "3: 5♣,6♦               0.00% win   0.00% tie    4♦,4♠,K♥,Q♥,10♣ (pair four, king, queen, ten kickers)\n",
      "4: 8♦,8♣               0.00% win   0.00% tie     8♦,8♣,4♦,4♠,K♥ (eight up, king kicker)\n",
      "6: 5♦,3♦               0.00% win   0.00% tie    4♦,4♠,K♥,Q♥,10♣ (pair four, king, queen, ten kickers)\n",
      "8: 2♥,9♣               0.00% win   0.00% tie    4♦,4♠,K♥,Q♥,10♣ (pair four, king, queen, ten kickers)\n",
      "\n",
      "Hand 355: showdown 6♣,3♦,10♦,5♣,7♥\n",
      "3: K♣,4♥               0.00% win 100.00% tie     7♥,6♣,5♣,4♥,3♦ (seven high straight)\n",
      "4: 10♥,4♣              0.00% win 100.00% tie     7♥,6♣,5♣,4♣,3♦ (seven high straight)\n",
      "5: A♦,4♦               0.00% win 100.00% tie     7♥,6♣,5♣,4♦,3♦ (seven high straight)\n",
      "0: A♠,K♠               0.00% win   0.00% tie    A♠,K♠,10♦,7♥,6♣ (ace high)\n",
      "1: Q♠,8♠               0.00% win   0.00% tie    Q♠,10♦,8♠,7♥,6♣ (queen high)\n",
      "2: 9♠,10♠              0.00% win   0.00% tie   10♠,10♦,9♠,7♥,6♣ (pair ten, nine, seven, six kickers)\n",
      "6: A♥,J♠               0.00% win   0.00% tie    A♥,J♠,10♦,7♥,6♣ (ace high)\n",
      "7: 5♦,10♣              0.00% win   0.00% tie   10♣,10♦,5♦,5♣,7♥ (ten up, seven kicker)\n",
      "8: J♥,2♥               0.00% win   0.00% tie    J♥,10♦,7♥,6♣,5♣ (jack high)\n",
      "\n",
      "Hand 364: showdown 9♣,Q♣,A♠,J♥,K♠\n",
      "1: 10♦,A♥              0.00% win 100.00% tie    A♥,K♠,Q♣,J♥,10♦ (ace high straight)\n",
      "2: 7♦,10♥              0.00% win 100.00% tie    A♠,K♠,Q♣,J♥,10♥ (ace high straight)\n",
      "0: 6♦,J♠               0.00% win   0.00% tie     J♠,J♥,A♠,K♠,Q♣ (pair jack, ace, king, queen kickers)\n",
      "3: 4♣,2♦               0.00% win   0.00% tie     A♠,K♠,Q♣,J♥,9♣ (ace high)\n",
      "4: 3♥,A♦               0.00% win   0.00% tie     A♦,A♠,K♠,Q♣,J♥ (pair ace, king, queen, jack kickers)\n",
      "5: J♦,5♣               0.00% win   0.00% tie     J♦,J♥,A♠,K♠,Q♣ (pair jack, ace, king, queen kickers)\n",
      "6: 9♠,Q♥               0.00% win   0.00% tie     Q♥,Q♣,9♠,9♣,A♠ (queen up, ace kicker)\n",
      "7: 2♣,3♣               0.00% win   0.00% tie     A♠,K♠,Q♣,J♥,9♣ (ace high)\n",
      "8: 6♥,9♦               0.00% win   0.00% tie     9♦,9♣,A♠,K♠,Q♣ (pair nine, ace, king, queen kickers)\n",
      "\n",
      "Hand 381: showdown 10♠,10♦,9♠,K♥,7♣\n",
      "0: 6♦,10♣              0.00% win 100.00% tie  10♣,10♠,10♦,K♥,9♠ (ten trip, king, nine kickers)\n",
      "7: 10♥,4♣              0.00% win 100.00% tie  10♥,10♠,10♦,K♥,9♠ (ten trip, king, nine kickers)\n",
      "1: 7♠,3♣               0.00% win   0.00% tie   10♠,10♦,7♠,7♣,K♥ (ten up, king kicker)\n",
      "2: A♥,A♣               0.00% win   0.00% tie   A♥,A♣,10♠,10♦,K♥ (ace up, king kicker)\n",
      "3: 4♥,8♦               0.00% win   0.00% tie   10♠,10♦,K♥,9♠,8♦ (pair ten, king, nine, eight kickers)\n",
      "4: 2♦,9♥               0.00% win   0.00% tie   10♠,10♦,9♥,9♠,K♥ (ten up, king kicker)\n",
      "5: 6♠,J♦               0.00% win   0.00% tie   10♠,10♦,K♥,J♦,9♠ (pair ten, king, jack, nine kickers)\n",
      "6: 6♥,6♣               0.00% win   0.00% tie   10♠,10♦,6♥,6♣,K♥ (ten up, king kicker)\n",
      "8: K♦,5♦               0.00% win   0.00% tie   K♦,K♥,10♠,10♦,9♠ (king up, nine kicker)\n",
      "\n",
      "Hand 389: showdown 4♥,7♠,8♠,10♣,8♥\n",
      "3: 8♦,2♣               0.00% win 100.00% tie    8♦,8♠,8♥,10♣,7♠ (eight trip, ten, seven kickers)\n",
      "4: 8♣,3♦               0.00% win 100.00% tie    8♣,8♠,8♥,10♣,7♠ (eight trip, ten, seven kickers)\n",
      "0: 9♦,3♥               0.00% win   0.00% tie    8♠,8♥,10♣,9♦,7♠ (pair eight, ten, nine, seven kickers)\n",
      "1: A♥,A♣               0.00% win   0.00% tie    A♥,A♣,8♠,8♥,10♣ (ace up, ten kicker)\n",
      "2: 4♦,A♠               0.00% win   0.00% tie     8♠,8♥,4♦,4♥,A♠ (eight up, ace kicker)\n",
      "5: 9♥,5♥               0.00% win   0.00% tie    8♠,8♥,10♣,9♥,7♠ (pair eight, ten, nine, seven kickers)\n",
      "6: 10♠,6♦              0.00% win   0.00% tie   10♠,10♣,8♠,8♥,7♠ (ten up, seven kicker)\n",
      "7: Q♦,10♦              0.00% win   0.00% tie   10♦,10♣,8♠,8♥,Q♦ (ten up, queen kicker)\n",
      "8: 7♣,5♣               0.00% win   0.00% tie    8♠,8♥,7♣,7♠,10♣ (eight up, ten kicker)\n",
      "\n",
      "Hand 398: showdown 6♠,6♥,Q♣,5♥,A♠\n",
      "4: 2♦,Q♥               0.00% win 100.00% tie     Q♥,Q♣,6♠,6♥,A♠ (queen up, ace kicker)\n",
      "8: Q♦,K♣               0.00% win 100.00% tie     Q♦,Q♣,6♠,6♥,A♠ (queen up, ace kicker)\n",
      "0: 9♣,9♦               0.00% win   0.00% tie     9♣,9♦,6♠,6♥,A♠ (nine up, ace kicker)\n",
      "1: 2♣,K♦               0.00% win   0.00% tie     6♠,6♥,A♠,K♦,Q♣ (pair six, ace, king, queen kickers)\n",
      "2: 7♠,10♦              0.00% win   0.00% tie    6♠,6♥,A♠,Q♣,10♦ (pair six, ace, queen, ten kickers)\n",
      "3: J♠,8♦               0.00% win   0.00% tie     6♠,6♥,A♠,Q♣,J♠ (pair six, ace, queen, jack kickers)\n",
      "5: 7♣,9♥               0.00% win   0.00% tie     6♠,6♥,A♠,Q♣,9♥ (pair six, ace, queen, nine kickers)\n",
      "6: 5♠,J♦               0.00% win   0.00% tie     6♠,6♥,5♠,5♥,A♠ (six up, ace kicker)\n",
      "7: 8♠,3♥               0.00% win   0.00% tie     6♠,6♥,A♠,Q♣,8♠ (pair six, ace, queen, eight kickers)\n",
      "\n",
      "Hand 400: showdown A♦,K♥,6♣,A♥,10♣\n",
      "4: 3♠,Q♣               0.00% win 100.00% tie    A♦,A♥,K♥,Q♣,10♣ (pair ace, king, queen, ten kickers)\n",
      "8: Q♦,9♣               0.00% win 100.00% tie    A♦,A♥,K♥,Q♦,10♣ (pair ace, king, queen, ten kickers)\n",
      "0: 8♠,J♥               0.00% win   0.00% tie    A♦,A♥,K♥,J♥,10♣ (pair ace, king, jack, ten kickers)\n",
      "1: J♦,4♣               0.00% win   0.00% tie    A♦,A♥,K♥,J♦,10♣ (pair ace, king, jack, ten kickers)\n",
      "2: 2♣,5♦               0.00% win   0.00% tie    A♦,A♥,K♥,10♣,6♣ (pair ace, king, ten, six kickers)\n",
      "3: 5♥,9♦               0.00% win   0.00% tie    A♦,A♥,K♥,10♣,9♦ (pair ace, king, ten, nine kickers)\n",
      "5: 8♦,2♥               0.00% win   0.00% tie    A♦,A♥,K♥,10♣,8♦ (pair ace, king, ten, eight kickers)\n",
      "6: J♣,3♥               0.00% win   0.00% tie    A♦,A♥,K♥,J♣,10♣ (pair ace, king, jack, ten kickers)\n",
      "7: 3♦,4♥               0.00% win   0.00% tie    A♦,A♥,K♥,10♣,6♣ (pair ace, king, ten, six kickers)\n",
      "\n",
      "Hand 404: showdown 10♣,5♦,9♥,7♥,J♦\n",
      "0: 9♠,8♠               0.00% win 100.00% tie    J♦,10♣,9♠,8♠,7♥ (jack high straight)\n",
      "1: 8♣,J♠               0.00% win 100.00% tie    J♠,10♣,9♥,8♣,7♥ (jack high straight)\n",
      "3: 6♥,8♥               0.00% win 100.00% tie    J♦,10♣,9♥,8♥,7♥ (jack high straight)\n",
      "2: 2♦,J♥               0.00% win   0.00% tie    J♥,J♦,10♣,9♥,7♥ (pair jack, ten, nine, seven kickers)\n",
      "4: 2♥,3♦               0.00% win   0.00% tie    J♦,10♣,9♥,7♥,5♦ (jack high)\n",
      "5: 2♠,Q♣               0.00% win   0.00% tie    Q♣,J♦,10♣,9♥,7♥ (queen high)\n",
      "6: K♥,4♥               0.00% win   0.00% tie    K♥,J♦,10♣,9♥,7♥ (king high)\n",
      "7: 3♥,A♣               0.00% win   0.00% tie    A♣,J♦,10♣,9♥,7♥ (ace high)\n",
      "8: 2♣,9♦               0.00% win   0.00% tie    9♦,9♥,J♦,10♣,7♥ (pair nine, jack, ten, seven kickers)\n",
      "\n",
      "Hand 406: showdown 9♠,Q♥,J♠,J♦,2♠\n",
      "3: J♥,3♦               0.00% win 100.00% tie     J♥,J♠,J♦,Q♥,9♠ (jack trip, queen, nine kickers)\n",
      "5: J♣,3♣               0.00% win 100.00% tie     J♣,J♠,J♦,Q♥,9♠ (jack trip, queen, nine kickers)\n",
      "0: 5♥,2♦               0.00% win   0.00% tie     J♠,J♦,2♦,2♠,Q♥ (jack up, queen kicker)\n",
      "1: 3♥,2♣               0.00% win   0.00% tie     J♠,J♦,2♣,2♠,Q♥ (jack up, queen kicker)\n",
      "2: 2♥,K♠               0.00% win   0.00% tie     J♠,J♦,2♥,2♠,K♠ (jack up, king kicker)\n",
      "4: 8♠,4♣               0.00% win   0.00% tie     J♠,J♦,Q♥,9♠,8♠ (pair jack, queen, nine, eight kickers)\n",
      "6: A♦,5♣               0.00% win   0.00% tie     J♠,J♦,A♦,Q♥,9♠ (pair jack, ace, queen, nine kickers)\n",
      "7: K♥,7♠               0.00% win   0.00% tie     J♠,J♦,K♥,Q♥,9♠ (pair jack, king, queen, nine kickers)\n",
      "8: 6♣,K♦               0.00% win   0.00% tie     J♠,J♦,K♦,Q♥,9♠ (pair jack, king, queen, nine kickers)\n",
      "\n",
      "Hand 415: showdown K♦,8♦,5♣,6♥,9♦\n",
      "0: 7♠,A♥               0.00% win 100.00% tie     9♦,8♦,7♠,6♥,5♣ (nine high straight)\n",
      "7: 7♣,4♥               0.00% win 100.00% tie     9♦,8♦,7♣,6♥,5♣ (nine high straight)\n",
      "1: 10♣,9♥              0.00% win   0.00% tie    9♥,9♦,K♦,10♣,8♦ (pair nine, king, ten, eight kickers)\n",
      "2: A♦,J♣               0.00% win   0.00% tie     A♦,K♦,J♣,9♦,8♦ (ace high)\n",
      "3: 8♠,K♥               0.00% win   0.00% tie     K♥,K♦,8♠,8♦,9♦ (king up, nine kicker)\n",
      "4: Q♣,3♣               0.00% win   0.00% tie     K♦,Q♣,9♦,8♦,6♥ (king high)\n",
      "5: 5♠,3♠               0.00% win   0.00% tie     5♠,5♣,K♦,9♦,8♦ (pair five, king, nine, eight kickers)\n",
      "6: 2♠,10♠              0.00% win   0.00% tie    K♦,10♠,9♦,8♦,6♥ (king high)\n",
      "8: 10♦,9♣              0.00% win   0.00% tie    9♣,9♦,K♦,10♦,8♦ (pair nine, king, ten, eight kickers)\n",
      "\n"
     ]
    },
    {
     "name": "stdout",
     "output_type": "stream",
     "text": [
      "Hand 426: showdown 10♣,K♥,3♥,Q♦,9♦\n",
      "2: J♣,K♣               0.00% win 100.00% tie    K♣,Q♦,J♣,10♣,9♦ (king high straight)\n",
      "4: Q♣,J♠               0.00% win 100.00% tie    K♥,Q♣,J♠,10♣,9♦ (king high straight)\n",
      "0: 6♠,7♣               0.00% win   0.00% tie    K♥,Q♦,10♣,9♦,7♣ (king high)\n",
      "1: K♦,7♦               0.00% win   0.00% tie    K♦,K♥,Q♦,10♣,9♦ (pair king, queen, ten, nine kickers)\n",
      "3: 2♦,8♣               0.00% win   0.00% tie    K♥,Q♦,10♣,9♦,8♣ (king high)\n",
      "5: 4♦,A♦               0.00% win   0.00% tie    A♦,K♥,Q♦,10♣,9♦ (ace high)\n",
      "6: A♥,Q♠               0.00% win   0.00% tie    Q♠,Q♦,A♥,K♥,10♣ (pair queen, ace, king, ten kickers)\n",
      "7: K♠,6♣               0.00% win   0.00% tie    K♠,K♥,Q♦,10♣,9♦ (pair king, queen, ten, nine kickers)\n",
      "8: 5♦,Q♥               0.00% win   0.00% tie    Q♥,Q♦,K♥,10♣,9♦ (pair queen, king, ten, nine kickers)\n",
      "\n",
      "Hand 432: showdown 9♣,10♣,K♦,Q♣,K♠\n",
      "0: J♠,6♦               0.00% win 100.00% tie    K♦,Q♣,J♠,10♣,9♣ (king high straight)\n",
      "6: J♣,5♥               0.00% win 100.00% tie    K♦,Q♣,J♣,10♣,9♣ (king high straight)\n",
      "1: 3♥,10♥              0.00% win   0.00% tie   K♦,K♠,10♥,10♣,Q♣ (king up, queen kicker)\n",
      "2: 6♠,Q♦               0.00% win   0.00% tie    K♦,K♠,Q♦,Q♣,10♣ (king up, ten kicker)\n",
      "3: 8♠,K♣               0.00% win   0.00% tie    K♣,K♦,K♠,Q♣,10♣ (king trip, queen, ten kickers)\n",
      "4: Q♥,3♦               0.00% win   0.00% tie    K♦,K♠,Q♥,Q♣,10♣ (king up, ten kicker)\n",
      "5: 10♦,9♥              0.00% win   0.00% tie   K♦,K♠,10♦,10♣,Q♣ (king up, queen kicker)\n",
      "7: 8♦,8♥               0.00% win   0.00% tie     K♦,K♠,8♦,8♥,Q♣ (king up, queen kicker)\n",
      "8: 3♠,2♠               0.00% win   0.00% tie    K♦,K♠,Q♣,10♣,9♣ (pair king, queen, ten, nine kickers)\n",
      "\n",
      "Hand 460: showdown 4♣,5♥,2♣,3♠,8♦\n",
      "0: 6♣,3♦               0.00% win 100.00% tie     6♣,5♥,4♣,3♦,2♣ (six high straight)\n",
      "4: 6♥,A♦               0.00% win 100.00% tie     6♥,5♥,4♣,3♠,2♣ (six high straight)\n",
      "1: A♥,A♠               0.00% win   0.00% tie     5♥,4♣,3♠,2♣,A♥ (5 high straight)\n",
      "2: Q♥,7♥               0.00% win   0.00% tie     Q♥,8♦,7♥,5♥,4♣ (queen high)\n",
      "3: 4♥,J♦               0.00% win   0.00% tie     4♥,4♣,J♦,8♦,5♥ (pair four, jack, eight, five kickers)\n",
      "5: 9♠,10♠              0.00% win   0.00% tie    10♠,9♠,8♦,5♥,4♣ (ten high)\n",
      "6: 9♥,9♣               0.00% win   0.00% tie     9♥,9♣,8♦,5♥,4♣ (pair nine, eight, five, four kickers)\n",
      "7: 7♣,2♦               0.00% win   0.00% tie     2♦,2♣,8♦,7♣,5♥ (pair two, eight, seven, five kickers)\n",
      "8: 3♥,5♣               0.00% win   0.00% tie     5♣,5♥,3♥,3♠,8♦ (five up, eight kicker)\n",
      "\n",
      "Hand 498: showdown K♠,8♣,10♠,Q♦,J♠\n",
      "4: A♠,4♥               0.00% win 100.00% tie    A♠,K♠,Q♦,J♠,10♠ (ace high straight)\n",
      "7: 9♠,A♣               0.00% win 100.00% tie    A♣,K♠,Q♦,J♠,10♠ (ace high straight)\n",
      "0: 6♣,8♠               0.00% win   0.00% tie     8♠,8♣,K♠,Q♦,J♠ (pair eight, king, queen, jack kickers)\n",
      "1: 5♠,6♥               0.00% win   0.00% tie    K♠,Q♦,J♠,10♠,8♣ (king high)\n",
      "2: J♦,2♣               0.00% win   0.00% tie    J♦,J♠,K♠,Q♦,10♠ (pair jack, king, queen, ten kickers)\n",
      "3: 9♥,2♥               0.00% win   0.00% tie    K♠,Q♦,J♠,10♠,9♥ (king high straight)\n",
      "5: 6♦,8♦               0.00% win   0.00% tie     8♦,8♣,K♠,Q♦,J♠ (pair eight, king, queen, jack kickers)\n",
      "6: Q♣,7♦               0.00% win   0.00% tie    Q♣,Q♦,K♠,J♠,10♠ (pair queen, king, jack, ten kickers)\n",
      "8: K♣,9♣               0.00% win   0.00% tie    K♣,Q♦,J♠,10♠,9♣ (king high straight)\n",
      "\n",
      "Hand 540: showdown 9♥,8♠,7♣,10♣,5♥\n",
      "0: A♠,J♠               0.00% win 100.00% tie    J♠,10♣,9♥,8♠,7♣ (jack high straight)\n",
      "6: J♥,2♠               0.00% win 100.00% tie    J♥,10♣,9♥,8♠,7♣ (jack high straight)\n",
      "1: 7♠,Q♥               0.00% win   0.00% tie    7♠,7♣,Q♥,10♣,9♥ (pair seven, queen, ten, nine kickers)\n",
      "2: A♦,6♥               0.00% win   0.00% tie    10♣,9♥,8♠,7♣,6♥ (ten high straight)\n",
      "3: 3♦,4♦               0.00% win   0.00% tie    10♣,9♥,8♠,7♣,5♥ (ten high)\n",
      "4: 2♦,4♥               0.00% win   0.00% tie    10♣,9♥,8♠,7♣,5♥ (ten high)\n",
      "5: 8♥,5♣               0.00% win   0.00% tie    8♥,8♠,5♣,5♥,10♣ (eight up, ten kicker)\n",
      "7: Q♣,A♥               0.00% win   0.00% tie    A♥,Q♣,10♣,9♥,8♠ (ace high)\n",
      "8: 9♦,K♠               0.00% win   0.00% tie    9♦,9♥,K♠,10♣,8♠ (pair nine, king, ten, eight kickers)\n",
      "\n",
      "Hand 553: showdown 9♥,8♠,7♣,Q♥,10♠\n",
      "3: 6♦,9♣               0.00% win 100.00% tie    10♠,9♣,8♠,7♣,6♦ (ten high straight)\n",
      "8: 6♣,10♥              0.00% win 100.00% tie    10♥,9♥,8♠,7♣,6♣ (ten high straight)\n",
      "0: Q♣,2♠               0.00% win   0.00% tie    Q♣,Q♥,10♠,9♥,8♠ (pair queen, ten, nine, eight kickers)\n",
      "1: 4♥,K♦               0.00% win   0.00% tie    K♦,Q♥,10♠,9♥,8♠ (king high)\n",
      "2: 3♦,3♥               0.00% win   0.00% tie    3♦,3♥,Q♥,10♠,9♥ (pair three, queen, ten, nine kickers)\n",
      "4: 4♠,4♣               0.00% win   0.00% tie    4♠,4♣,Q♥,10♠,9♥ (pair four, queen, ten, nine kickers)\n",
      "5: 9♠,A♦               0.00% win   0.00% tie    9♠,9♥,A♦,Q♥,10♠ (pair nine, ace, queen, ten kickers)\n",
      "6: 3♣,K♥               0.00% win   0.00% tie    K♥,Q♥,10♠,9♥,8♠ (king high)\n",
      "7: 5♥,2♣               0.00% win   0.00% tie    Q♥,10♠,9♥,8♠,7♣ (queen high)\n",
      "\n",
      "Hand 556: showdown 4♥,9♦,8♠,10♠,K♣\n",
      "1: K♥,3♥               0.00% win 100.00% tie    K♥,K♣,10♠,9♦,8♠ (pair king, ten, nine, eight kickers)\n",
      "8: 2♠,K♦               0.00% win 100.00% tie    K♦,K♣,10♠,9♦,8♠ (pair king, ten, nine, eight kickers)\n",
      "0: 7♥,4♣               0.00% win   0.00% tie    4♣,4♥,K♣,10♠,9♦ (pair four, king, ten, nine kickers)\n",
      "2: Q♣,9♣               0.00% win   0.00% tie    9♣,9♦,K♣,Q♣,10♠ (pair nine, king, queen, ten kickers)\n",
      "3: 5♥,10♣              0.00% win   0.00% tie   10♣,10♠,K♣,9♦,8♠ (pair ten, king, nine, eight kickers)\n",
      "4: 6♦,J♠               0.00% win   0.00% tie    K♣,J♠,10♠,9♦,8♠ (king high)\n",
      "5: 6♣,J♥               0.00% win   0.00% tie    K♣,J♥,10♠,9♦,8♠ (king high)\n",
      "6: A♣,5♠               0.00% win   0.00% tie    A♣,K♣,10♠,9♦,8♠ (ace high)\n",
      "7: 7♣,4♦               0.00% win   0.00% tie    4♦,4♥,K♣,10♠,9♦ (pair four, king, ten, nine kickers)\n",
      "\n",
      "Hand 561: showdown K♣,J♣,10♦,9♥,2♦\n",
      "1: 4♠,Q♦               0.00% win 100.00% tie    K♣,Q♦,J♣,10♦,9♥ (king high straight)\n",
      "8: Q♥,10♠              0.00% win 100.00% tie    K♣,Q♥,J♣,10♠,9♥ (king high straight)\n",
      "0: 8♣,J♠               0.00% win   0.00% tie    J♠,J♣,K♣,10♦,9♥ (pair jack, king, ten, nine kickers)\n",
      "2: 3♦,8♥               0.00% win   0.00% tie    K♣,J♣,10♦,9♥,8♥ (king high)\n",
      "3: 7♥,5♥               0.00% win   0.00% tie    K♣,J♣,10♦,9♥,7♥ (king high)\n",
      "4: 3♣,9♠               0.00% win   0.00% tie    9♠,9♥,K♣,J♣,10♦ (pair nine, king, jack, ten kickers)\n",
      "5: J♥,8♦               0.00% win   0.00% tie    J♥,J♣,K♣,10♦,9♥ (pair jack, king, ten, nine kickers)\n",
      "6: 10♥,4♥              0.00% win   0.00% tie   10♥,10♦,K♣,J♣,9♥ (pair ten, king, jack, nine kickers)\n",
      "7: 9♦,5♠               0.00% win   0.00% tie    9♦,9♥,K♣,J♣,10♦ (pair nine, king, jack, ten kickers)\n",
      "\n",
      "Hand 580: showdown 7♥,6♥,8♠,A♥,J♦\n",
      "1: 2♠,A♦               0.00% win 100.00% tie     A♦,A♥,J♦,8♠,7♥ (pair ace, jack, eight, seven kickers)\n",
      "4: 5♠,A♣               0.00% win 100.00% tie     A♣,A♥,J♦,8♠,7♥ (pair ace, jack, eight, seven kickers)\n",
      "0: 3♥,Q♣               0.00% win   0.00% tie     A♥,Q♣,J♦,8♠,7♥ (ace high)\n",
      "2: 6♣,9♦               0.00% win   0.00% tie     6♣,6♥,A♥,J♦,9♦ (pair six, ace, jack, nine kickers)\n",
      "3: 10♥,K♦              0.00% win   0.00% tie    A♥,K♦,J♦,10♥,8♠ (ace high)\n",
      "5: 10♠,K♠              0.00% win   0.00% tie    A♥,K♠,J♦,10♠,8♠ (ace high)\n",
      "6: 2♦,9♥               0.00% win   0.00% tie     A♥,J♦,9♥,8♠,7♥ (ace high)\n",
      "7: 5♣,7♠               0.00% win   0.00% tie     7♠,7♥,A♥,J♦,8♠ (pair seven, ace, jack, eight kickers)\n",
      "8: 7♣,4♠               0.00% win   0.00% tie     7♣,7♥,A♥,J♦,8♠ (pair seven, ace, jack, eight kickers)\n",
      "\n",
      "Hand 583: showdown 5♣,5♦,8♣,2♠,8♠\n",
      "2: 8♦,3♦               0.00% win 100.00% tie     8♦,8♣,8♠,5♣,5♦ (eight over five)\n",
      "4: 6♥,8♥               0.00% win 100.00% tie     8♥,8♣,8♠,5♣,5♦ (eight over five)\n",
      "0: 2♥,2♣               0.00% win   0.00% tie     2♥,2♣,2♠,8♣,8♠ (two over eight)\n",
      "1: 9♥,J♣               0.00% win   0.00% tie     8♣,8♠,5♣,5♦,J♣ (eight up, jack kicker)\n",
      "3: Q♣,9♣               0.00% win   0.00% tie     8♣,8♠,5♣,5♦,Q♣ (eight up, queen kicker)\n",
      "5: 4♥,10♦              0.00% win   0.00% tie    8♣,8♠,5♣,5♦,10♦ (eight up, ten kicker)\n",
      "6: 7♥,4♣               0.00% win   0.00% tie     8♣,8♠,5♣,5♦,7♥ (eight up, seven kicker)\n",
      "7: 4♦,7♦               0.00% win   0.00% tie     8♣,8♠,5♣,5♦,7♦ (eight up, seven kicker)\n",
      "8: K♥,6♦               0.00% win   0.00% tie     8♣,8♠,5♣,5♦,K♥ (eight up, king kicker)\n",
      "\n",
      "Hand 588: showdown 7♣,5♣,10♥,9♣,10♠\n",
      "0: 2♠,10♣              0.00% win 100.00% tie  10♣,10♥,10♠,9♣,7♣ (ten trip, nine, seven kickers)\n",
      "7: 4♣,10♦              0.00% win 100.00% tie  10♦,10♥,10♠,9♣,7♣ (ten trip, nine, seven kickers)\n",
      "1: 3♠,3♥               0.00% win   0.00% tie   10♥,10♠,3♠,3♥,9♣ (ten up, nine kicker)\n",
      "2: A♦,K♥               0.00% win   0.00% tie   10♥,10♠,A♦,K♥,9♣ (pair ten, ace, king, nine kickers)\n",
      "3: Q♥,J♥               0.00% win   0.00% tie   10♥,10♠,Q♥,J♥,9♣ (pair ten, queen, jack, nine kickers)\n",
      "4: 7♠,4♠               0.00% win   0.00% tie   10♥,10♠,7♠,7♣,9♣ (ten up, nine kicker)\n",
      "5: Q♠,9♥               0.00% win   0.00% tie   10♥,10♠,9♥,9♣,Q♠ (ten up, queen kicker)\n",
      "6: 7♦,A♠               0.00% win   0.00% tie   10♥,10♠,7♦,7♣,A♠ (ten up, ace kicker)\n",
      "8: J♠,7♥               0.00% win   0.00% tie   10♥,10♠,7♥,7♣,J♠ (ten up, jack kicker)\n",
      "\n",
      "Hand 589: showdown A♣,8♥,2♦,A♦,A♠\n",
      "1: 10♦,2♥              0.00% win 100.00% tie     A♣,A♦,A♠,2♥,2♦ (ace over two)\n",
      "4: 2♠,K♠               0.00% win 100.00% tie     A♣,A♦,A♠,2♠,2♦ (ace over two)\n",
      "0: K♦,5♣               0.00% win   0.00% tie     A♣,A♦,A♠,K♦,8♥ (ace trip, king, eight kickers)\n",
      "2: 5♥,9♠               0.00% win   0.00% tie     A♣,A♦,A♠,9♠,8♥ (ace trip, nine, eight kickers)\n",
      "3: Q♣,3♣               0.00% win   0.00% tie     A♣,A♦,A♠,Q♣,8♥ (ace trip, queen, eight kickers)\n",
      "5: 6♦,7♦               0.00% win   0.00% tie     A♣,A♦,A♠,8♥,7♦ (ace trip, eight, seven kickers)\n",
      "6: J♦,Q♥               0.00% win   0.00% tie     A♣,A♦,A♠,Q♥,J♦ (ace trip, queen, jack kickers)\n",
      "7: Q♦,J♥               0.00% win   0.00% tie     A♣,A♦,A♠,Q♦,J♥ (ace trip, queen, jack kickers)\n",
      "8: 6♥,K♣               0.00% win   0.00% tie     A♣,A♦,A♠,K♣,8♥ (ace trip, king, eight kickers)\n",
      "\n"
     ]
    },
    {
     "name": "stdout",
     "output_type": "stream",
     "text": [
      "Hand 613: showdown 8♠,6♠,4♦,3♥,8♣\n",
      "2: J♣,6♣               0.00% win 100.00% tie     8♠,8♣,6♣,6♠,J♣ (eight up, jack kicker)\n",
      "5: J♦,6♥               0.00% win 100.00% tie     8♠,8♣,6♥,6♠,J♦ (eight up, jack kicker)\n",
      "0: 4♣,6♦               0.00% win   0.00% tie     8♠,8♣,6♦,6♠,4♣ (eight up, four kicker)\n",
      "1: 9♦,J♠               0.00% win   0.00% tie     8♠,8♣,J♠,9♦,6♠ (pair eight, jack, nine, six kickers)\n",
      "3: 7♣,2♠               0.00% win   0.00% tie     8♠,8♣,7♣,6♠,4♦ (pair eight, seven, six, four kickers)\n",
      "4: 9♣,7♦               0.00% win   0.00% tie     8♠,8♣,9♣,7♦,6♠ (pair eight, nine, seven, six kickers)\n",
      "6: A♥,K♠               0.00% win   0.00% tie     8♠,8♣,A♥,K♠,6♠ (pair eight, ace, king, six kickers)\n",
      "7: 4♥,Q♦               0.00% win   0.00% tie     8♠,8♣,4♥,4♦,Q♦ (eight up, queen kicker)\n",
      "8: 10♣,A♠              0.00% win   0.00% tie    8♠,8♣,A♠,10♣,6♠ (pair eight, ace, ten, six kickers)\n",
      "\n",
      "Hand 619: showdown J♥,A♠,9♠,8♥,Q♦\n",
      "1: 6♦,A♥               0.00% win 100.00% tie     A♥,A♠,Q♦,J♥,9♠ (pair ace, queen, jack, nine kickers)\n",
      "4: 7♦,A♦               0.00% win 100.00% tie     A♦,A♠,Q♦,J♥,9♠ (pair ace, queen, jack, nine kickers)\n",
      "5: 3♣,A♣               0.00% win 100.00% tie     A♣,A♠,Q♦,J♥,9♠ (pair ace, queen, jack, nine kickers)\n",
      "0: 4♦,Q♣               0.00% win   0.00% tie     Q♣,Q♦,A♠,J♥,9♠ (pair queen, ace, jack, nine kickers)\n",
      "2: 4♥,Q♥               0.00% win   0.00% tie     Q♥,Q♦,A♠,J♥,9♠ (pair queen, ace, jack, nine kickers)\n",
      "3: K♣,K♠               0.00% win   0.00% tie     K♣,K♠,A♠,Q♦,J♥ (pair king, ace, queen, jack kickers)\n",
      "6: 2♥,4♠               0.00% win   0.00% tie     A♠,Q♦,J♥,9♠,8♥ (ace high)\n",
      "7: 5♠,Q♠               0.00% win   0.00% tie     Q♠,Q♦,A♠,J♥,9♠ (pair queen, ace, jack, nine kickers)\n",
      "8: 9♦,3♠               0.00% win   0.00% tie     9♦,9♠,A♠,Q♦,J♥ (pair nine, ace, queen, jack kickers)\n",
      "\n",
      "Hand 622: showdown 7♦,8♦,7♥,3♣,8♣\n",
      "1: 10♣,8♠              0.00% win 100.00% tie     8♠,8♦,8♣,7♦,7♥ (eight over seven)\n",
      "8: 8♥,3♥               0.00% win 100.00% tie     8♥,8♦,8♣,7♦,7♥ (eight over seven)\n",
      "0: 6♦,2♠               0.00% win   0.00% tie     8♦,8♣,7♦,7♥,6♦ (eight up, six kicker)\n",
      "2: A♠,4♦               0.00% win   0.00% tie     8♦,8♣,7♦,7♥,A♠ (eight up, ace kicker)\n",
      "3: K♥,J♣               0.00% win   0.00% tie     8♦,8♣,7♦,7♥,K♥ (eight up, king kicker)\n",
      "4: 6♣,9♠               0.00% win   0.00% tie     8♦,8♣,7♦,7♥,9♠ (eight up, nine kicker)\n",
      "5: 7♠,A♥               0.00% win   0.00% tie     7♠,7♦,7♥,8♦,8♣ (seven over eight)\n",
      "6: 10♠,A♦              0.00% win   0.00% tie     8♦,8♣,7♦,7♥,A♦ (eight up, ace kicker)\n",
      "7: 6♠,10♥              0.00% win   0.00% tie    8♦,8♣,7♦,7♥,10♥ (eight up, ten kicker)\n",
      "\n",
      "Hand 644: showdown K♥,9♥,8♥,9♠,7♣\n",
      "0: K♠,7♠               0.00% win 100.00% tie     K♠,K♥,9♥,9♠,8♥ (king up, eight kicker)\n",
      "6: 2♦,K♦               0.00% win 100.00% tie     K♦,K♥,9♥,9♠,8♥ (king up, eight kicker)\n",
      "1: Q♠,2♥               0.00% win   0.00% tie     9♥,9♠,K♥,Q♠,8♥ (pair nine, king, queen, eight kickers)\n",
      "2: A♥,8♠               0.00% win   0.00% tie     9♥,9♠,8♠,8♥,A♥ (nine up, ace kicker)\n",
      "3: 7♥,5♠               0.00% win   0.00% tie     9♥,9♠,7♥,7♣,K♥ (nine up, king kicker)\n",
      "4: J♦,3♣               0.00% win   0.00% tie     9♥,9♠,K♥,J♦,8♥ (pair nine, king, jack, eight kickers)\n",
      "5: 6♠,J♣               0.00% win   0.00% tie     9♥,9♠,K♥,J♣,8♥ (pair nine, king, jack, eight kickers)\n",
      "7: A♠,Q♥               0.00% win   0.00% tie     9♥,9♠,A♠,K♥,Q♥ (pair nine, ace, king, queen kickers)\n",
      "8: 3♦,10♠              0.00% win   0.00% tie    9♥,9♠,K♥,10♠,8♥ (pair nine, king, ten, eight kickers)\n",
      "\n",
      "Hand 657: showdown 10♣,9♠,Q♦,K♥,10♥\n",
      "7: 5♥,J♣               0.00% win 100.00% tie    K♥,Q♦,J♣,10♣,9♠ (king high straight)\n",
      "8: J♥,J♦               0.00% win 100.00% tie    K♥,Q♦,J♥,10♣,9♠ (king high straight)\n",
      "0: 4♣,9♥               0.00% win   0.00% tie   10♣,10♥,9♥,9♠,K♥ (ten up, king kicker)\n",
      "1: 8♦,10♠              0.00% win   0.00% tie  10♠,10♣,10♥,K♥,Q♦ (ten trip, king, queen kickers)\n",
      "2: 4♦,6♠               0.00% win   0.00% tie   10♣,10♥,K♥,Q♦,9♠ (pair ten, king, queen, nine kickers)\n",
      "3: 2♣,6♥               0.00% win   0.00% tie   10♣,10♥,K♥,Q♦,9♠ (pair ten, king, queen, nine kickers)\n",
      "4: 7♦,9♣               0.00% win   0.00% tie   10♣,10♥,9♣,9♠,K♥ (ten up, king kicker)\n",
      "5: 8♠,7♣               0.00% win   0.00% tie   10♣,10♥,K♥,Q♦,9♠ (pair ten, king, queen, nine kickers)\n",
      "6: 2♥,7♠               0.00% win   0.00% tie   10♣,10♥,K♥,Q♦,9♠ (pair ten, king, queen, nine kickers)\n",
      "\n",
      "Hand 661: showdown Q♣,Q♦,6♣,J♥,3♦\n",
      "0: 2♣,J♦               0.00% win 100.00% tie     Q♣,Q♦,J♦,J♥,6♣ (queen up, six kicker)\n",
      "1: J♠,6♦               0.00% win 100.00% tie     Q♣,Q♦,J♠,J♥,6♦ (queen up, six kicker)\n",
      "2: 2♥,A♠               0.00% win   0.00% tie     Q♣,Q♦,A♠,J♥,6♣ (pair queen, ace, jack, six kickers)\n",
      "3: K♠,7♠               0.00% win   0.00% tie     Q♣,Q♦,K♠,J♥,7♠ (pair queen, king, jack, seven kickers)\n",
      "4: 3♥,A♦               0.00% win   0.00% tie     Q♣,Q♦,3♥,3♦,A♦ (queen up, ace kicker)\n",
      "5: 10♦,A♥              0.00% win   0.00% tie    Q♣,Q♦,A♥,J♥,10♦ (pair queen, ace, jack, ten kickers)\n",
      "6: 10♠,10♥             0.00% win   0.00% tie   Q♣,Q♦,10♠,10♥,J♥ (queen up, jack kicker)\n",
      "7: 8♥,3♣               0.00% win   0.00% tie     Q♣,Q♦,3♣,3♦,J♥ (queen up, jack kicker)\n",
      "8: 2♠,4♦               0.00% win   0.00% tie     Q♣,Q♦,J♥,6♣,4♦ (pair queen, jack, six, four kickers)\n",
      "\n",
      "Hand 673: showdown 6♦,3♠,2♣,5♠,4♣\n",
      "3: 7♠,3♥               0.00% win 100.00% tie     7♠,6♦,5♠,4♣,3♥ (seven high straight)\n",
      "5: K♥,7♥               0.00% win 100.00% tie     7♥,6♦,5♠,4♣,3♠ (seven high straight)\n",
      "8: 7♦,J♠               0.00% win 100.00% tie     7♦,6♦,5♠,4♣,3♠ (seven high straight)\n",
      "0: J♣,9♣               0.00% win   0.00% tie     6♦,5♠,4♣,3♠,2♣ (six high straight)\n",
      "1: J♥,K♦               0.00% win   0.00% tie     6♦,5♠,4♣,3♠,2♣ (six high straight)\n",
      "2: 6♥,10♣              0.00% win   0.00% tie     6♥,5♠,4♣,3♠,2♣ (six high straight)\n",
      "4: 5♥,2♥               0.00% win   0.00% tie     6♦,5♥,4♣,3♠,2♥ (six high straight)\n",
      "6: K♣,9♥               0.00% win   0.00% tie     6♦,5♠,4♣,3♠,2♣ (six high straight)\n",
      "7: 8♠,A♦               0.00% win   0.00% tie     6♦,5♠,4♣,3♠,2♣ (six high straight)\n",
      "\n",
      "Hand 682: showdown K♥,6♣,A♠,10♣,J♦\n",
      "2: Q♦,6♦               0.00% win 100.00% tie    A♠,K♥,Q♦,J♦,10♣ (ace high straight)\n",
      "5: Q♣,9♦               0.00% win 100.00% tie    A♠,K♥,Q♣,J♦,10♣ (ace high straight)\n",
      "8: 5♠,Q♥               0.00% win 100.00% tie    A♠,K♥,Q♥,J♦,10♣ (ace high straight)\n",
      "0: A♦,10♥              0.00% win   0.00% tie   A♦,A♠,10♥,10♣,K♥ (ace up, king kicker)\n",
      "1: 7♦,3♥               0.00% win   0.00% tie    A♠,K♥,J♦,10♣,7♦ (ace high)\n",
      "3: 5♣,10♦              0.00% win   0.00% tie   10♦,10♣,A♠,K♥,J♦ (pair ten, ace, king, jack kickers)\n",
      "4: 4♥,A♣               0.00% win   0.00% tie    A♣,A♠,K♥,J♦,10♣ (pair ace, king, jack, ten kickers)\n",
      "6: 5♦,5♥               0.00% win   0.00% tie     5♦,5♥,A♠,K♥,J♦ (pair five, ace, king, jack kickers)\n",
      "7: J♣,7♠               0.00% win   0.00% tie    J♣,J♦,A♠,K♥,10♣ (pair jack, ace, king, ten kickers)\n",
      "\n",
      "Hand 702: showdown 9♣,K♥,Q♠,3♣,K♠\n",
      "5: K♣,5♦               0.00% win 100.00% tie     K♣,K♥,K♠,Q♠,9♣ (king trip, queen, nine kickers)\n",
      "7: K♦,6♥               0.00% win 100.00% tie     K♦,K♥,K♠,Q♠,9♣ (king trip, queen, nine kickers)\n",
      "0: 5♣,7♦               0.00% win   0.00% tie     K♥,K♠,Q♠,9♣,7♦ (pair king, queen, nine, seven kickers)\n",
      "1: Q♣,3♦               0.00% win   0.00% tie     K♥,K♠,Q♣,Q♠,9♣ (king up, nine kicker)\n",
      "2: 2♠,3♠               0.00% win   0.00% tie     K♥,K♠,3♠,3♣,Q♠ (king up, queen kicker)\n",
      "3: 2♣,7♥               0.00% win   0.00% tie     K♥,K♠,Q♠,9♣,7♥ (pair king, queen, nine, seven kickers)\n",
      "4: Q♦,A♠               0.00% win   0.00% tie     K♥,K♠,Q♦,Q♠,A♠ (king up, ace kicker)\n",
      "6: 4♦,5♠               0.00% win   0.00% tie     K♥,K♠,Q♠,9♣,5♠ (pair king, queen, nine, five kickers)\n",
      "8: 8♠,8♣               0.00% win   0.00% tie     K♥,K♠,8♠,8♣,Q♠ (king up, queen kicker)\n",
      "\n",
      "Hand 712: showdown 2♠,A♦,Q♣,4♥,5♦\n",
      "3: 5♣,3♥               0.00% win 100.00% tie     5♣,4♥,3♥,2♠,A♦ (5 high straight)\n",
      "5: J♠,3♠               0.00% win 100.00% tie     5♦,4♥,3♠,2♠,A♦ (5 high straight)\n",
      "0: 7♣,5♠               0.00% win   0.00% tie     5♠,5♦,A♦,Q♣,7♣ (pair five, ace, queen, seven kickers)\n",
      "1: 2♦,K♣               0.00% win   0.00% tie     2♦,2♠,A♦,K♣,Q♣ (pair two, ace, king, queen kickers)\n",
      "2: 6♦,Q♦               0.00% win   0.00% tie     Q♦,Q♣,A♦,6♦,5♦ (pair queen, ace, six, five kickers)\n",
      "4: 4♣,10♣              0.00% win   0.00% tie    4♣,4♥,A♦,Q♣,10♣ (pair four, ace, queen, ten kickers)\n",
      "6: J♣,6♠               0.00% win   0.00% tie     A♦,Q♣,J♣,6♠,5♦ (ace high)\n",
      "7: 10♠,A♠              0.00% win   0.00% tie    A♠,A♦,Q♣,10♠,5♦ (pair ace, queen, ten, five kickers)\n",
      "8: 8♥,7♦               0.00% win   0.00% tie     A♦,Q♣,8♥,7♦,5♦ (ace high)\n",
      "\n",
      "Hand 718: showdown 10♣,7♥,Q♥,J♠,K♠\n",
      "1: A♣,2♠               0.00% win 100.00% tie    A♣,K♠,Q♥,J♠,10♣ (ace high straight)\n",
      "4: A♦,9♣               0.00% win 100.00% tie    A♦,K♠,Q♥,J♠,10♣ (ace high straight)\n",
      "0: 7♣,J♦               0.00% win   0.00% tie     J♦,J♠,7♣,7♥,K♠ (jack up, king kicker)\n",
      "2: 3♥,6♣               0.00% win   0.00% tie    K♠,Q♥,J♠,10♣,7♥ (king high)\n",
      "3: K♦,Q♠               0.00% win   0.00% tie     K♦,K♠,Q♠,Q♥,J♠ (king up, jack kicker)\n",
      "5: 6♠,5♠               0.00% win   0.00% tie    K♠,Q♥,J♠,10♣,7♥ (king high)\n",
      "6: J♥,Q♦               0.00% win   0.00% tie     Q♦,Q♥,J♥,J♠,K♠ (queen up, king kicker)\n",
      "7: 3♣,7♦               0.00% win   0.00% tie     7♦,7♥,K♠,Q♥,J♠ (pair seven, king, queen, jack kickers)\n",
      "8: 5♣,4♦               0.00% win   0.00% tie    K♠,Q♥,J♠,10♣,7♥ (king high)\n",
      "\n"
     ]
    },
    {
     "name": "stdout",
     "output_type": "stream",
     "text": [
      "Hand 720: showdown 4♠,3♥,6♦,8♠,7♥\n",
      "3: 5♣,10♠              0.00% win 100.00% tie     8♠,7♥,6♦,5♣,4♠ (eight high straight)\n",
      "8: 5♦,5♥               0.00% win 100.00% tie     8♠,7♥,6♦,5♦,4♠ (eight high straight)\n",
      "0: 4♦,7♠               0.00% win   0.00% tie     7♠,7♥,4♦,4♠,8♠ (seven up, eight kicker)\n",
      "1: A♥,4♣               0.00% win   0.00% tie     4♣,4♠,A♥,8♠,7♥ (pair four, ace, eight, seven kickers)\n",
      "2: 2♣,2♦               0.00% win   0.00% tie     2♣,2♦,8♠,7♥,6♦ (pair two, eight, seven, six kickers)\n",
      "4: K♠,7♦               0.00% win   0.00% tie     7♦,7♥,K♠,8♠,6♦ (pair seven, king, eight, six kickers)\n",
      "5: Q♠,A♣               0.00% win   0.00% tie     A♣,Q♠,8♠,7♥,6♦ (ace high)\n",
      "6: 9♠,3♠               0.00% win   0.00% tie     3♠,3♥,9♠,8♠,7♥ (pair three, nine, eight, seven kickers)\n",
      "7: K♥,8♣               0.00% win   0.00% tie     8♣,8♠,K♥,7♥,6♦ (pair eight, king, seven, six kickers)\n",
      "\n",
      "Hand 721: showdown 10♣,9♥,8♠,J♦,6♦\n",
      "4: 7♠,A♦               0.00% win 100.00% tie    J♦,10♣,9♥,8♠,7♠ (jack high straight)\n",
      "8: K♥,7♣               0.00% win 100.00% tie    J♦,10♣,9♥,8♠,7♣ (jack high straight)\n",
      "0: 3♦,9♦               0.00% win   0.00% tie    9♦,9♥,J♦,10♣,8♠ (pair nine, jack, ten, eight kickers)\n",
      "1: J♠,4♥               0.00% win   0.00% tie    J♠,J♦,10♣,9♥,8♠ (pair jack, ten, nine, eight kickers)\n",
      "2: 9♣,4♠               0.00% win   0.00% tie    9♣,9♥,J♦,10♣,8♠ (pair nine, jack, ten, eight kickers)\n",
      "3: 10♦,8♦              0.00% win   0.00% tie   10♦,10♣,8♦,8♠,J♦ (ten up, jack kicker)\n",
      "5: 3♠,6♣               0.00% win   0.00% tie    6♣,6♦,J♦,10♣,9♥ (pair six, jack, ten, nine kickers)\n",
      "6: 5♥,2♣               0.00% win   0.00% tie    J♦,10♣,9♥,8♠,6♦ (jack high)\n",
      "7: 2♥,3♥               0.00% win   0.00% tie    J♦,10♣,9♥,8♠,6♦ (jack high)\n",
      "\n",
      "Hand 743: showdown 2♠,5♥,4♠,J♥,9♠\n",
      "0: 3♦,6♠               0.00% win 100.00% tie     6♠,5♥,4♠,3♦,2♠ (six high straight)\n",
      "2: 6♦,3♣               0.00% win 100.00% tie     6♦,5♥,4♠,3♣,2♠ (six high straight)\n",
      "1: 10♥,8♠              0.00% win   0.00% tie    J♥,10♥,9♠,8♠,5♥ (jack high)\n",
      "3: K♠,5♣               0.00% win   0.00% tie     5♣,5♥,K♠,J♥,9♠ (pair five, king, jack, nine kickers)\n",
      "4: 8♣,Q♦               0.00% win   0.00% tie     Q♦,J♥,9♠,8♣,5♥ (queen high)\n",
      "5: 9♣,5♦               0.00% win   0.00% tie     9♣,9♠,5♦,5♥,J♥ (nine up, jack kicker)\n",
      "6: 2♣,K♦               0.00% win   0.00% tie     2♣,2♠,K♦,J♥,9♠ (pair two, king, jack, nine kickers)\n",
      "7: J♣,9♦               0.00% win   0.00% tie     J♣,J♥,9♦,9♠,5♥ (jack up, five kicker)\n",
      "8: 10♦,A♦              0.00% win   0.00% tie    A♦,J♥,10♦,9♠,5♥ (ace high)\n",
      "\n",
      "Hand 752: showdown 7♣,2♦,3♠,5♦,8♠\n",
      "0: 9♦,6♦               0.00% win 100.00% tie     9♦,8♠,7♣,6♦,5♦ (nine high straight)\n",
      "8: 6♠,9♠               0.00% win 100.00% tie     9♠,8♠,7♣,6♠,5♦ (nine high straight)\n",
      "1: 7♦,7♠               0.00% win   0.00% tie     7♦,7♠,7♣,8♠,5♦ (seven trip, eight, five kickers)\n",
      "2: 6♣,3♦               0.00% win   0.00% tie     3♦,3♠,8♠,7♣,6♣ (pair three, eight, seven, six kickers)\n",
      "3: 10♦,A♣              0.00% win   0.00% tie    A♣,10♦,8♠,7♣,5♦ (ace high)\n",
      "4: J♣,5♥               0.00% win   0.00% tie     5♥,5♦,J♣,8♠,7♣ (pair five, jack, eight, seven kickers)\n",
      "5: 10♥,3♣              0.00% win   0.00% tie    3♣,3♠,10♥,8♠,7♣ (pair three, ten, eight, seven kickers)\n",
      "6: 8♣,Q♥               0.00% win   0.00% tie     8♣,8♠,Q♥,7♣,5♦ (pair eight, queen, seven, five kickers)\n",
      "7: 7♥,Q♣               0.00% win   0.00% tie     7♥,7♣,Q♣,8♠,5♦ (pair seven, queen, eight, five kickers)\n",
      "\n",
      "Hand 788: showdown 6♦,10♦,6♥,K♣,K♥\n",
      "3: 8♣,K♠               0.00% win 100.00% tie     K♠,K♣,K♥,6♦,6♥ (king over six)\n",
      "7: K♦,3♥               0.00% win 100.00% tie     K♦,K♣,K♥,6♦,6♥ (king over six)\n",
      "0: 9♠,6♠               0.00% win   0.00% tie     6♠,6♦,6♥,K♣,K♥ (six over king)\n",
      "1: 4♠,8♦               0.00% win   0.00% tie    K♣,K♥,6♦,6♥,10♦ (king up, ten kicker)\n",
      "2: 5♣,4♣               0.00% win   0.00% tie    K♣,K♥,6♦,6♥,10♦ (king up, ten kicker)\n",
      "4: 8♠,2♥               0.00% win   0.00% tie    K♣,K♥,6♦,6♥,10♦ (king up, ten kicker)\n",
      "5: 6♣,4♥               0.00% win   0.00% tie     6♣,6♦,6♥,K♣,K♥ (six over king)\n",
      "6: 3♦,3♠               0.00% win   0.00% tie    K♣,K♥,6♦,6♥,10♦ (king up, ten kicker)\n",
      "8: A♥,A♣               0.00% win   0.00% tie    A♥,A♣,K♣,K♥,10♦ (ace up, ten kicker)\n",
      "\n",
      "Hand 808: showdown 3♦,3♣,8♣,3♥,2♦\n",
      "0: 8♦,A♦               0.00% win 100.00% tie     3♦,3♣,3♥,8♦,8♣ (three over eight)\n",
      "2: 8♥,4♣               0.00% win 100.00% tie     3♦,3♣,3♥,8♥,8♣ (three over eight)\n",
      "1: Q♠,6♥               0.00% win   0.00% tie     3♦,3♣,3♥,Q♠,8♣ (three trip, queen, eight kickers)\n",
      "3: 10♣,A♠              0.00% win   0.00% tie    3♦,3♣,3♥,A♠,10♣ (three trip, ace, ten kickers)\n",
      "4: 2♣,4♦               0.00% win   0.00% tie     3♦,3♣,3♥,2♣,2♦ (three over two)\n",
      "5: 2♥,6♣               0.00% win   0.00% tie     3♦,3♣,3♥,2♥,2♦ (three over two)\n",
      "6: 5♠,7♥               0.00% win   0.00% tie     3♦,3♣,3♥,8♣,7♥ (three trip, eight, seven kickers)\n",
      "7: 4♥,Q♣               0.00% win   0.00% tie     3♦,3♣,3♥,Q♣,8♣ (three trip, queen, eight kickers)\n",
      "8: K♥,5♦               0.00% win   0.00% tie     3♦,3♣,3♥,K♥,8♣ (three trip, king, eight kickers)\n",
      "\n",
      "Hand 820: showdown 7♥,10♣,9♦,K♣,J♦\n",
      "0: 8♥,K♦               0.00% win 100.00% tie    J♦,10♣,9♦,8♥,7♥ (jack high straight)\n",
      "3: 8♣,4♦               0.00% win 100.00% tie    J♦,10♣,9♦,8♣,7♥ (jack high straight)\n",
      "1: A♠,3♦               0.00% win   0.00% tie    A♠,K♣,J♦,10♣,9♦ (ace high)\n",
      "2: 5♥,2♣               0.00% win   0.00% tie    K♣,J♦,10♣,9♦,7♥ (king high)\n",
      "4: 4♥,2♠               0.00% win   0.00% tie    K♣,J♦,10♣,9♦,7♥ (king high)\n",
      "5: 5♣,6♥               0.00% win   0.00% tie    K♣,J♦,10♣,9♦,7♥ (king high)\n",
      "6: 4♠,9♥               0.00% win   0.00% tie    9♥,9♦,K♣,J♦,10♣ (pair nine, king, jack, ten kickers)\n",
      "7: 3♥,2♦               0.00% win   0.00% tie    K♣,J♦,10♣,9♦,7♥ (king high)\n",
      "8: J♥,3♠               0.00% win   0.00% tie    J♥,J♦,K♣,10♣,9♦ (pair jack, king, ten, nine kickers)\n",
      "\n",
      "Hand 822: showdown 6♦,6♣,7♠,K♦,2♣\n",
      "1: 3♥,K♣               0.00% win 100.00% tie     K♣,K♦,6♦,6♣,7♠ (king up, seven kicker)\n",
      "5: 5♦,K♥               0.00% win 100.00% tie     K♥,K♦,6♦,6♣,7♠ (king up, seven kicker)\n",
      "0: Q♠,7♦               0.00% win   0.00% tie     7♦,7♠,6♦,6♣,K♦ (seven up, king kicker)\n",
      "2: J♦,10♣              0.00% win   0.00% tie    6♦,6♣,K♦,J♦,10♣ (pair six, king, jack, ten kickers)\n",
      "3: 7♥,A♣               0.00% win   0.00% tie     7♥,7♠,6♦,6♣,A♣ (seven up, ace kicker)\n",
      "4: 7♣,3♦               0.00% win   0.00% tie     7♣,7♠,6♦,6♣,K♦ (seven up, king kicker)\n",
      "6: 4♣,J♠               0.00% win   0.00% tie     6♦,6♣,K♦,J♠,7♠ (pair six, king, jack, seven kickers)\n",
      "7: 8♦,4♠               0.00% win   0.00% tie     6♦,6♣,K♦,8♦,7♠ (pair six, king, eight, seven kickers)\n",
      "8: 8♣,5♠               0.00% win   0.00% tie     6♦,6♣,K♦,8♣,7♠ (pair six, king, eight, seven kickers)\n",
      "\n",
      "Hand 831: showdown 2♠,8♦,5♠,A♦,3♠\n",
      "5: 3♥,4♣               0.00% win 100.00% tie     5♠,4♣,3♥,2♠,A♦ (5 high straight)\n",
      "7: 4♥,8♣               0.00% win 100.00% tie     5♠,4♥,3♠,2♠,A♦ (5 high straight)\n",
      "0: K♦,J♣               0.00% win   0.00% tie     A♦,K♦,J♣,8♦,5♠ (ace high)\n",
      "1: Q♠,9♣               0.00% win   0.00% tie     A♦,Q♠,9♣,8♦,5♠ (ace high)\n",
      "2: 9♠,K♥               0.00% win   0.00% tie     A♦,K♥,9♠,8♦,5♠ (ace high)\n",
      "3: Q♥,3♦               0.00% win   0.00% tie     3♦,3♠,A♦,Q♥,8♦ (pair three, ace, queen, eight kickers)\n",
      "4: 9♦,A♣               0.00% win   0.00% tie     A♣,A♦,9♦,8♦,5♠ (pair ace, nine, eight, five kickers)\n",
      "6: 2♦,A♠               0.00% win   0.00% tie     A♠,A♦,2♦,2♠,8♦ (ace up, eight kicker)\n",
      "8: 5♣,8♥               0.00% win   0.00% tie     8♥,8♦,5♣,5♠,A♦ (eight up, ace kicker)\n",
      "\n",
      "Hand 844: showdown 6♥,K♥,J♠,8♠,A♣\n",
      "1: Q♦,10♥              0.00% win 100.00% tie    A♣,K♥,Q♦,J♠,10♥ (ace high straight)\n",
      "4: Q♣,10♠              0.00% win 100.00% tie    A♣,K♥,Q♣,J♠,10♠ (ace high straight)\n",
      "0: 2♠,6♦               0.00% win   0.00% tie     6♦,6♥,A♣,K♥,J♠ (pair six, ace, king, jack kickers)\n",
      "2: 3♣,J♥               0.00% win   0.00% tie     J♥,J♠,A♣,K♥,8♠ (pair jack, ace, king, eight kickers)\n",
      "3: 10♦,4♠              0.00% win   0.00% tie    A♣,K♥,J♠,10♦,8♠ (ace high)\n",
      "5: 3♠,9♠               0.00% win   0.00% tie     A♣,K♥,J♠,9♠,8♠ (ace high)\n",
      "6: 8♦,A♦               0.00% win   0.00% tie     A♦,A♣,8♦,8♠,K♥ (ace up, king kicker)\n",
      "7: 9♦,K♦               0.00% win   0.00% tie     K♦,K♥,A♣,J♠,9♦ (pair king, ace, jack, nine kickers)\n",
      "8: 9♣,7♦               0.00% win   0.00% tie     A♣,K♥,J♠,9♣,8♠ (ace high)\n",
      "\n",
      "Hand 862: showdown 4♦,A♣,3♠,10♠,2♣\n",
      "6: 5♠,K♣               0.00% win 100.00% tie     5♠,4♦,3♠,2♣,A♣ (5 high straight)\n",
      "8: Q♠,5♣               0.00% win 100.00% tie     5♣,4♦,3♠,2♣,A♣ (5 high straight)\n",
      "0: 9♠,J♠               0.00% win   0.00% tie    A♣,J♠,10♠,9♠,4♦ (ace high)\n",
      "1: 10♣,4♣              0.00% win   0.00% tie   10♣,10♠,4♣,4♦,A♣ (ten up, ace kicker)\n",
      "2: 9♦,A♦               0.00% win   0.00% tie    A♦,A♣,10♠,9♦,4♦ (pair ace, ten, nine, four kickers)\n",
      "3: 7♣,8♦               0.00% win   0.00% tie    A♣,10♠,8♦,7♣,4♦ (ace high)\n",
      "4: J♦,2♦               0.00% win   0.00% tie    2♦,2♣,A♣,J♦,10♠ (pair two, ace, jack, ten kickers)\n",
      "5: 3♦,3♣               0.00% win   0.00% tie    3♦,3♣,3♠,A♣,10♠ (three trip, ace, ten kickers)\n",
      "7: 8♣,2♠               0.00% win   0.00% tie    2♠,2♣,A♣,10♠,8♣ (pair two, ace, ten, eight kickers)\n",
      "\n"
     ]
    },
    {
     "name": "stdout",
     "output_type": "stream",
     "text": [
      "Hand 871: showdown 8♥,A♠,3♦,A♣,J♣\n",
      "0: J♥,6♦               0.00% win 100.00% tie     A♠,A♣,J♥,J♣,8♥ (ace up, eight kicker)\n",
      "6: 7♣,J♠               0.00% win 100.00% tie     A♠,A♣,J♠,J♣,8♥ (ace up, eight kicker)\n",
      "1: 4♠,7♦               0.00% win   0.00% tie     A♠,A♣,J♣,8♥,7♦ (pair ace, jack, eight, seven kickers)\n",
      "2: Q♣,3♥               0.00% win   0.00% tie     A♠,A♣,3♥,3♦,Q♣ (ace up, queen kicker)\n",
      "3: 6♠,K♦               0.00% win   0.00% tie     A♠,A♣,K♦,J♣,8♥ (pair ace, king, jack, eight kickers)\n",
      "4: 7♠,6♣               0.00% win   0.00% tie     A♠,A♣,J♣,8♥,7♠ (pair ace, jack, eight, seven kickers)\n",
      "5: 3♠,8♦               0.00% win   0.00% tie     A♠,A♣,8♦,8♥,J♣ (ace up, jack kicker)\n",
      "7: 5♦,5♠               0.00% win   0.00% tie     A♠,A♣,5♦,5♠,J♣ (ace up, jack kicker)\n",
      "8: 9♠,9♣               0.00% win   0.00% tie     A♠,A♣,9♠,9♣,J♣ (ace up, jack kicker)\n",
      "\n",
      "Hand 908: showdown A♦,K♣,J♦,4♠,10♥\n",
      "1: Q♣,4♦               0.00% win 100.00% tie    A♦,K♣,Q♣,J♦,10♥ (ace high straight)\n",
      "3: Q♦,3♣               0.00% win 100.00% tie    A♦,K♣,Q♦,J♦,10♥ (ace high straight)\n",
      "0: 8♣,2♦               0.00% win   0.00% tie    A♦,K♣,J♦,10♥,8♣ (ace high)\n",
      "2: 7♥,9♠               0.00% win   0.00% tie    A♦,K♣,J♦,10♥,9♠ (ace high)\n",
      "4: 7♠,2♥               0.00% win   0.00% tie    A♦,K♣,J♦,10♥,7♠ (ace high)\n",
      "5: J♣,7♦               0.00% win   0.00% tie    J♣,J♦,A♦,K♣,10♥ (pair jack, ace, king, ten kickers)\n",
      "6: 7♣,A♠               0.00% win   0.00% tie    A♠,A♦,K♣,J♦,10♥ (pair ace, king, jack, ten kickers)\n",
      "7: 5♥,9♥               0.00% win   0.00% tie    A♦,K♣,J♦,10♥,9♥ (ace high)\n",
      "8: K♥,9♦               0.00% win   0.00% tie    K♥,K♣,A♦,J♦,10♥ (pair king, ace, jack, ten kickers)\n",
      "\n",
      "Hand 937: showdown 3♣,8♦,A♦,6♥,9♥\n",
      "0: 10♠,9♦              0.00% win 100.00% tie    9♦,9♥,A♦,10♠,8♦ (pair nine, ace, ten, eight kickers)\n",
      "4: 10♦,9♠              0.00% win 100.00% tie    9♠,9♥,A♦,10♦,8♦ (pair nine, ace, ten, eight kickers)\n",
      "1: 4♠,2♣               0.00% win   0.00% tie     A♦,9♥,8♦,6♥,4♠ (ace high)\n",
      "2: K♣,7♠               0.00% win   0.00% tie     A♦,K♣,9♥,8♦,7♠ (ace high)\n",
      "3: 8♥,J♦               0.00% win   0.00% tie     8♥,8♦,A♦,J♦,9♥ (pair eight, ace, jack, nine kickers)\n",
      "5: 6♠,K♥               0.00% win   0.00% tie     6♠,6♥,A♦,K♥,9♥ (pair six, ace, king, nine kickers)\n",
      "6: Q♦,4♥               0.00% win   0.00% tie     A♦,Q♦,9♥,8♦,6♥ (ace high)\n",
      "7: J♠,4♣               0.00% win   0.00% tie     A♦,J♠,9♥,8♦,6♥ (ace high)\n",
      "8: 7♥,Q♥               0.00% win   0.00% tie     A♦,Q♥,9♥,8♦,7♥ (ace high)\n",
      "\n",
      "Hand 942: showdown 9♥,5♦,7♣,7♥,8♠\n",
      "3: 3♥,6♥               0.00% win 100.00% tie     9♥,8♠,7♣,6♥,5♦ (nine high straight)\n",
      "7: 2♣,6♠               0.00% win 100.00% tie     9♥,8♠,7♣,6♠,5♦ (nine high straight)\n",
      "0: Q♥,4♣               0.00% win   0.00% tie     7♣,7♥,Q♥,9♥,8♠ (pair seven, queen, nine, eight kickers)\n",
      "1: A♠,7♠               0.00% win   0.00% tie     7♠,7♣,7♥,A♠,9♥ (seven trip, ace, nine kickers)\n",
      "2: 4♥,7♦               0.00% win   0.00% tie     7♦,7♣,7♥,9♥,8♠ (seven trip, nine, eight kickers)\n",
      "4: 10♦,8♥              0.00% win   0.00% tie    8♥,8♠,7♣,7♥,10♦ (eight up, ten kicker)\n",
      "5: 8♣,10♥              0.00% win   0.00% tie    8♣,8♠,7♣,7♥,10♥ (eight up, ten kicker)\n",
      "6: J♣,9♦               0.00% win   0.00% tie     9♦,9♥,7♣,7♥,J♣ (nine up, jack kicker)\n",
      "8: J♦,3♦               0.00% win   0.00% tie     7♣,7♥,J♦,9♥,8♠ (pair seven, jack, nine, eight kickers)\n",
      "\n",
      "Hand 955: showdown 10♠,7♦,K♣,A♦,J♥\n",
      "0: 5♦,Q♦               0.00% win 100.00% tie    A♦,K♣,Q♦,J♥,10♠ (ace high straight)\n",
      "4: Q♠,3♠               0.00% win 100.00% tie    A♦,K♣,Q♠,J♥,10♠ (ace high straight)\n",
      "1: 7♠,2♠               0.00% win   0.00% tie     7♠,7♦,A♦,K♣,J♥ (pair seven, ace, king, jack kickers)\n",
      "2: K♠,2♥               0.00% win   0.00% tie    K♠,K♣,A♦,J♥,10♠ (pair king, ace, jack, ten kickers)\n",
      "3: A♣,5♥               0.00% win   0.00% tie    A♣,A♦,K♣,J♥,10♠ (pair ace, king, jack, ten kickers)\n",
      "5: 3♣,6♠               0.00% win   0.00% tie    A♦,K♣,J♥,10♠,7♦ (ace high)\n",
      "6: 9♣,4♣               0.00% win   0.00% tie    A♦,K♣,J♥,10♠,9♣ (ace high)\n",
      "7: J♠,2♦               0.00% win   0.00% tie    J♠,J♥,A♦,K♣,10♠ (pair jack, ace, king, ten kickers)\n",
      "8: 8♦,8♠               0.00% win   0.00% tie     8♦,8♠,A♦,K♣,J♥ (pair eight, ace, king, jack kickers)\n",
      "\n",
      "Hand 961: showdown 4♦,8♠,K♦,10♣,A♦\n",
      "3: 6♦,A♠               0.00% win 100.00% tie    A♠,A♦,K♦,10♣,8♠ (pair ace, king, ten, eight kickers)\n",
      "5: A♥,7♥               0.00% win 100.00% tie    A♥,A♦,K♦,10♣,8♠ (pair ace, king, ten, eight kickers)\n",
      "0: Q♠,4♠               0.00% win   0.00% tie     4♠,4♦,A♦,K♦,Q♠ (pair four, ace, king, queen kickers)\n",
      "1: 2♥,J♠               0.00% win   0.00% tie    A♦,K♦,J♠,10♣,8♠ (ace high)\n",
      "2: 4♥,Q♥               0.00% win   0.00% tie     4♥,4♦,A♦,K♦,Q♥ (pair four, ace, king, queen kickers)\n",
      "4: 3♦,6♣               0.00% win   0.00% tie    A♦,K♦,10♣,8♠,6♣ (ace high)\n",
      "6: J♣,10♥              0.00% win   0.00% tie   10♥,10♣,A♦,K♦,J♣ (pair ten, ace, king, jack kickers)\n",
      "7: J♦,3♠               0.00% win   0.00% tie    A♦,K♦,J♦,10♣,8♠ (ace high)\n",
      "8: 7♦,9♠               0.00% win   0.00% tie    A♦,K♦,10♣,9♠,8♠ (ace high)\n",
      "\n",
      "Hand 971: showdown 2♣,9♥,2♦,3♠,8♠\n",
      "0: 9♦,4♥               0.00% win 100.00% tie     9♦,9♥,2♣,2♦,8♠ (nine up, eight kicker)\n",
      "7: 9♠,4♣               0.00% win 100.00% tie     9♠,9♥,2♣,2♦,8♠ (nine up, eight kicker)\n",
      "1: 6♥,5♥               0.00% win   0.00% tie     2♣,2♦,9♥,8♠,6♥ (pair two, nine, eight, six kickers)\n",
      "2: A♠,7♦               0.00% win   0.00% tie     2♣,2♦,A♠,9♥,8♠ (pair two, ace, nine, eight kickers)\n",
      "3: 10♣,A♦              0.00% win   0.00% tie    2♣,2♦,A♦,10♣,9♥ (pair two, ace, ten, nine kickers)\n",
      "4: 4♠,6♠               0.00% win   0.00% tie     2♣,2♦,9♥,8♠,6♠ (pair two, nine, eight, six kickers)\n",
      "5: K♠,5♣               0.00% win   0.00% tie     2♣,2♦,K♠,9♥,8♠ (pair two, king, nine, eight kickers)\n",
      "6: 8♣,Q♣               0.00% win   0.00% tie     8♣,8♠,2♣,2♦,Q♣ (eight up, queen kicker)\n",
      "8: Q♥,6♦               0.00% win   0.00% tie     2♣,2♦,Q♥,9♥,8♠ (pair two, queen, nine, eight kickers)\n",
      "\n",
      "Hand 977: showdown 9♦,4♥,6♣,7♥,A♦\n",
      "5: 5♠,3♠               0.00% win 100.00% tie     7♥,6♣,5♠,4♥,3♠ (seven high straight)\n",
      "8: 5♥,3♥               0.00% win 100.00% tie     7♥,6♣,5♥,4♥,3♥ (seven high straight)\n",
      "0: 4♠,J♣               0.00% win   0.00% tie     4♠,4♥,A♦,J♣,9♦ (pair four, ace, jack, nine kickers)\n",
      "1: 9♠,K♠               0.00% win   0.00% tie     9♠,9♦,A♦,K♠,7♥ (pair nine, ace, king, seven kickers)\n",
      "2: 5♦,K♦               0.00% win   0.00% tie     A♦,K♦,9♦,7♥,6♣ (ace high)\n",
      "3: 10♣,10♦             0.00% win   0.00% tie   10♣,10♦,A♦,9♦,7♥ (pair ten, ace, nine, seven kickers)\n",
      "4: J♥,5♣               0.00% win   0.00% tie     A♦,J♥,9♦,7♥,6♣ (ace high)\n",
      "6: Q♣,3♦               0.00% win   0.00% tie     A♦,Q♣,9♦,7♥,6♣ (ace high)\n",
      "7: 4♣,Q♥               0.00% win   0.00% tie     4♣,4♥,A♦,Q♥,9♦ (pair four, ace, queen, nine kickers)\n",
      "\n",
      "Hand 984: showdown Q♥,A♣,9♦,Q♦,4♠\n",
      "0: 9♠,10♣              0.00% win 100.00% tie     Q♥,Q♦,9♠,9♦,A♣ (queen up, ace kicker)\n",
      "7: 9♥,K♥               0.00% win 100.00% tie     Q♥,Q♦,9♥,9♦,A♣ (queen up, ace kicker)\n",
      "1: 8♠,K♣               0.00% win   0.00% tie     Q♥,Q♦,A♣,K♣,9♦ (pair queen, ace, king, nine kickers)\n",
      "2: 3♦,4♦               0.00% win   0.00% tie     Q♥,Q♦,4♦,4♠,A♣ (queen up, ace kicker)\n",
      "3: 2♠,J♦               0.00% win   0.00% tie     Q♥,Q♦,A♣,J♦,9♦ (pair queen, ace, jack, nine kickers)\n",
      "4: 7♦,8♥               0.00% win   0.00% tie     Q♥,Q♦,A♣,9♦,8♥ (pair queen, ace, nine, eight kickers)\n",
      "5: 6♠,10♥              0.00% win   0.00% tie    Q♥,Q♦,A♣,10♥,9♦ (pair queen, ace, ten, nine kickers)\n",
      "6: 3♠,7♣               0.00% win   0.00% tie     Q♥,Q♦,A♣,9♦,7♣ (pair queen, ace, nine, seven kickers)\n",
      "8: 10♦,6♥              0.00% win   0.00% tie    Q♥,Q♦,A♣,10♦,9♦ (pair queen, ace, ten, nine kickers)\n",
      "\n",
      "Hand 985: showdown 8♠,4♦,4♣,8♥,5♣\n",
      "4: 2♦,4♥               0.00% win 100.00% tie     4♥,4♦,4♣,8♠,8♥ (four over eight)\n",
      "5: 10♥,4♠              0.00% win 100.00% tie     4♠,4♦,4♣,8♠,8♥ (four over eight)\n",
      "0: 2♥,9♥               0.00% win   0.00% tie     8♠,8♥,4♦,4♣,9♥ (eight up, nine kicker)\n",
      "1: 9♣,2♣               0.00% win   0.00% tie     8♠,8♥,4♦,4♣,9♣ (eight up, nine kicker)\n",
      "2: A♠,K♠               0.00% win   0.00% tie     8♠,8♥,4♦,4♣,A♠ (eight up, ace kicker)\n",
      "3: Q♣,6♠               0.00% win   0.00% tie     8♠,8♥,4♦,4♣,Q♣ (eight up, queen kicker)\n",
      "6: 5♠,6♣               0.00% win   0.00% tie     8♠,8♥,5♠,5♣,6♣ (eight up, six kicker)\n",
      "7: 9♠,K♥               0.00% win   0.00% tie     8♠,8♥,4♦,4♣,K♥ (eight up, king kicker)\n",
      "8: 7♠,J♠               0.00% win   0.00% tie     8♠,8♥,4♦,4♣,J♠ (eight up, jack kicker)\n",
      "\n",
      "Hand 988: showdown 10♦,6♦,10♥,Q♦,9♠\n",
      "5: Q♥,5♠               0.00% win 100.00% tie   Q♥,Q♦,10♦,10♥,9♠ (queen up, nine kicker)\n",
      "6: 8♠,Q♠               0.00% win 100.00% tie   Q♠,Q♦,10♦,10♥,9♠ (queen up, nine kicker)\n",
      "0: 8♥,K♠               0.00% win   0.00% tie   10♦,10♥,K♠,Q♦,9♠ (pair ten, king, queen, nine kickers)\n",
      "1: 2♠,K♣               0.00% win   0.00% tie   10♦,10♥,K♣,Q♦,9♠ (pair ten, king, queen, nine kickers)\n",
      "2: 5♦,4♥               0.00% win   0.00% tie   10♦,10♥,Q♦,9♠,6♦ (pair ten, queen, nine, six kickers)\n",
      "3: 5♣,3♥               0.00% win   0.00% tie   10♦,10♥,Q♦,9♠,6♦ (pair ten, queen, nine, six kickers)\n",
      "4: 9♣,7♦               0.00% win   0.00% tie   10♦,10♥,9♣,9♠,Q♦ (ten up, queen kicker)\n",
      "7: A♠,8♣               0.00% win   0.00% tie   10♦,10♥,A♠,Q♦,9♠ (pair ten, ace, queen, nine kickers)\n",
      "8: 4♣,A♣               0.00% win   0.00% tie   10♦,10♥,A♣,Q♦,9♠ (pair ten, ace, queen, nine kickers)\n",
      "\n"
     ]
    }
   ],
   "source": [
    "game = Game([ Player(i) for i in range(9) ])\n",
    "for i in range(1000):\n",
    "    game.play_hand()\n",
    "    if game.is_a_tie():\n",
    "        print(f'Hand {i}: {game}')\n",
    "        game.hand_summary()\n",
    "        print()"
   ]
  },
  {
   "cell_type": "code",
   "execution_count": 4,
   "metadata": {},
   "outputs": [],
   "source": [
    "player = game.players()[0]"
   ]
  },
  {
   "cell_type": "code",
   "execution_count": 5,
   "metadata": {},
   "outputs": [
    {
     "data": {
      "text/plain": [
       "[<Card A♥>, <Card 9♥>]"
      ]
     },
     "execution_count": 5,
     "metadata": {},
     "output_type": "execute_result"
    }
   ],
   "source": [
    "player.pocket()"
   ]
  },
  {
   "cell_type": "code",
   "execution_count": 6,
   "metadata": {},
   "outputs": [
    {
     "data": {
      "text/plain": [
       "<Game showdown 10♦,10♠,6♦,3♣,9♠>"
      ]
     },
     "execution_count": 6,
     "metadata": {},
     "output_type": "execute_result"
    }
   ],
   "source": [
    "game"
   ]
  },
  {
   "cell_type": "code",
   "execution_count": 7,
   "metadata": {},
   "outputs": [
    {
     "name": "stdout",
     "output_type": "stream",
     "text": [
      "showdown 10♦,10♠,6♦,3♣,9♠\n"
     ]
    }
   ],
   "source": [
    "print(game)"
   ]
  },
  {
   "cell_type": "code",
   "execution_count": 8,
   "metadata": {},
   "outputs": [
    {
     "data": {
      "text/plain": [
       "<Card A♦>"
      ]
     },
     "execution_count": 8,
     "metadata": {},
     "output_type": "execute_result"
    }
   ],
   "source": [
    "card = Card.from_string('ad')\n",
    "card"
   ]
  },
  {
   "cell_type": "code",
   "execution_count": 9,
   "metadata": {},
   "outputs": [
    {
     "name": "stdout",
     "output_type": "stream",
     "text": [
      "A♦\n"
     ]
    }
   ],
   "source": [
    "print(card)"
   ]
  },
  {
   "cell_type": "code",
   "execution_count": 10,
   "metadata": {},
   "outputs": [
    {
     "data": {
      "text/plain": [
       "True"
      ]
     },
     "execution_count": 10,
     "metadata": {},
     "output_type": "execute_result"
    }
   ],
   "source": [
    "card > Card.from_string('9h')"
   ]
  },
  {
   "cell_type": "code",
   "execution_count": 11,
   "metadata": {},
   "outputs": [],
   "source": [
    "pocket = [Card.from_string('jc'), \n",
    "          Card.from_string('9h'), \n",
    "          Card.from_string('kd')]"
   ]
  },
  {
   "cell_type": "code",
   "execution_count": 12,
   "metadata": {},
   "outputs": [
    {
     "data": {
      "text/plain": [
       "[<Card K♦>, <Card J♣>, <Card 9♥>]"
      ]
     },
     "execution_count": 12,
     "metadata": {},
     "output_type": "execute_result"
    }
   ],
   "source": [
    "sorted(pocket, reverse=True)"
   ]
  },
  {
   "cell_type": "code",
   "execution_count": 13,
   "metadata": {},
   "outputs": [
    {
     "data": {
      "text/plain": [
       "<Hand [<Card A♦>, <Card 5♣>, <Card 4♣>, <Card 3♥>, <Card 2♦>]>"
      ]
     },
     "execution_count": 13,
     "metadata": {},
     "output_type": "execute_result"
    }
   ],
   "source": [
    "hand = Hand([Card.from_string('ad'), \n",
    "             Card.from_string('5c'), \n",
    "             Card.from_string('3h'), \n",
    "             Card.from_string('4c'), \n",
    "             Card.from_string('2d') ])\n",
    "hand"
   ]
  },
  {
   "cell_type": "code",
   "execution_count": 14,
   "metadata": {},
   "outputs": [
    {
     "data": {
      "text/plain": [
       "<Hand [<Card A♦>, <Card 5♣>, <Card 4♣>, <Card 3♥>, <Card 2♦>]>"
      ]
     },
     "execution_count": 14,
     "metadata": {},
     "output_type": "execute_result"
    }
   ],
   "source": [
    "hand = Hand.from_string('ad,5c,3h,4c,2d')\n",
    "hand"
   ]
  },
  {
   "cell_type": "code",
   "execution_count": 15,
   "metadata": {},
   "outputs": [
    {
     "name": "stdout",
     "output_type": "stream",
     "text": [
      "5♣,4♣,3♥,2♦,A♦\n"
     ]
    }
   ],
   "source": [
    "print(hand)"
   ]
  },
  {
   "cell_type": "code",
   "execution_count": 16,
   "metadata": {},
   "outputs": [
    {
     "data": {
      "text/plain": [
       "[4, 3, 2, 1, 0, -1]"
      ]
     },
     "execution_count": 16,
     "metadata": {},
     "output_type": "execute_result"
    }
   ],
   "source": [
    "hand.value()"
   ]
  },
  {
   "cell_type": "code",
   "execution_count": 17,
   "metadata": {},
   "outputs": [
    {
     "data": {
      "text/plain": [
       "'5 high straight'"
      ]
     },
     "execution_count": 17,
     "metadata": {},
     "output_type": "execute_result"
    }
   ],
   "source": [
    "hand.description()"
   ]
  },
  {
   "cell_type": "code",
   "execution_count": 18,
   "metadata": {},
   "outputs": [
    {
     "data": {
      "text/plain": [
       "<bound method Hand.rank of <Hand [<Card A♦>, <Card 5♣>, <Card 4♣>, <Card 3♥>, <Card 2♦>]>>"
      ]
     },
     "execution_count": 18,
     "metadata": {},
     "output_type": "execute_result"
    }
   ],
   "source": [
    "hand.rank"
   ]
  },
  {
   "cell_type": "code",
   "execution_count": 19,
   "metadata": {},
   "outputs": [
    {
     "data": {
      "text/plain": [
       "<Card A♣>"
      ]
     },
     "execution_count": 19,
     "metadata": {},
     "output_type": "execute_result"
    }
   ],
   "source": [
    "Card.from_string('ac')"
   ]
  },
  {
   "cell_type": "code",
   "execution_count": 20,
   "metadata": {},
   "outputs": [],
   "source": [
    "cards = [card for cardset in [game.players()[0].pocket(), game.board()] for card in cardset]"
   ]
  },
  {
   "cell_type": "code",
   "execution_count": 21,
   "metadata": {},
   "outputs": [
    {
     "data": {
      "text/plain": [
       "[<Card A♥>, <Card 9♥>, <Card 10♦>, <Card 10♠>, <Card 6♦>, <Card 3♣>, <Card 9♠>]"
      ]
     },
     "execution_count": 21,
     "metadata": {},
     "output_type": "execute_result"
    }
   ],
   "source": [
    "cards"
   ]
  },
  {
   "cell_type": "code",
   "execution_count": 22,
   "metadata": {},
   "outputs": [
    {
     "data": {
      "text/plain": [
       "[<Hand [<Card A♥>, <Card 10♦>, <Card 10♠>, <Card 9♥>, <Card 6♦>]>,\n",
       " <Hand [<Card A♥>, <Card 10♦>, <Card 10♠>, <Card 9♥>, <Card 3♣>]>,\n",
       " <Hand [<Card A♥>, <Card 10♦>, <Card 10♠>, <Card 9♥>, <Card 9♠>]>,\n",
       " <Hand [<Card A♥>, <Card 10♦>, <Card 9♥>, <Card 6♦>, <Card 3♣>]>,\n",
       " <Hand [<Card A♥>, <Card 10♦>, <Card 9♥>, <Card 9♠>, <Card 6♦>]>,\n",
       " <Hand [<Card A♥>, <Card 10♦>, <Card 9♥>, <Card 9♠>, <Card 3♣>]>,\n",
       " <Hand [<Card A♥>, <Card 10♠>, <Card 9♥>, <Card 6♦>, <Card 3♣>]>,\n",
       " <Hand [<Card A♥>, <Card 10♠>, <Card 9♥>, <Card 9♠>, <Card 6♦>]>,\n",
       " <Hand [<Card A♥>, <Card 10♠>, <Card 9♥>, <Card 9♠>, <Card 3♣>]>,\n",
       " <Hand [<Card A♥>, <Card 9♥>, <Card 9♠>, <Card 6♦>, <Card 3♣>]>,\n",
       " <Hand [<Card A♥>, <Card 10♦>, <Card 10♠>, <Card 6♦>, <Card 3♣>]>,\n",
       " <Hand [<Card A♥>, <Card 10♦>, <Card 10♠>, <Card 9♠>, <Card 6♦>]>,\n",
       " <Hand [<Card A♥>, <Card 10♦>, <Card 10♠>, <Card 9♠>, <Card 3♣>]>,\n",
       " <Hand [<Card A♥>, <Card 10♦>, <Card 9♠>, <Card 6♦>, <Card 3♣>]>,\n",
       " <Hand [<Card A♥>, <Card 10♠>, <Card 9♠>, <Card 6♦>, <Card 3♣>]>,\n",
       " <Hand [<Card 10♦>, <Card 10♠>, <Card 9♥>, <Card 6♦>, <Card 3♣>]>,\n",
       " <Hand [<Card 10♦>, <Card 10♠>, <Card 9♥>, <Card 9♠>, <Card 6♦>]>,\n",
       " <Hand [<Card 10♦>, <Card 10♠>, <Card 9♥>, <Card 9♠>, <Card 3♣>]>,\n",
       " <Hand [<Card 10♦>, <Card 9♥>, <Card 9♠>, <Card 6♦>, <Card 3♣>]>,\n",
       " <Hand [<Card 10♠>, <Card 9♥>, <Card 9♠>, <Card 6♦>, <Card 3♣>]>,\n",
       " <Hand [<Card 10♦>, <Card 10♠>, <Card 9♠>, <Card 6♦>, <Card 3♣>]>]"
      ]
     },
     "execution_count": 22,
     "metadata": {},
     "output_type": "execute_result"
    }
   ],
   "source": [
    "[Hand(list(combination)) for combination in combinations(cards, 5)]"
   ]
  },
  {
   "cell_type": "code",
   "execution_count": 23,
   "metadata": {},
   "outputs": [
    {
     "data": {
      "text/plain": [
       "True"
      ]
     },
     "execution_count": 23,
     "metadata": {},
     "output_type": "execute_result"
    }
   ],
   "source": [
    "Hand.from_string('ah,kh,qh,jh,10h') == Hand.from_string('as,ks,qs,js,10s')"
   ]
  },
  {
   "cell_type": "code",
   "execution_count": 24,
   "metadata": {},
   "outputs": [
    {
     "name": "stdout",
     "output_type": "stream",
     "text": [
      "pre-flop \n",
      "0: A♠,9♣              26.09% win   9.30% tie\n",
      "4: J♥,9♥              21.77% win   6.32% tie\n",
      "2: 3♣,6♥              14.17% win   2.44% tie\n",
      "1: J♦,5♥              12.41% win   4.95% tie\n",
      "3: A♦,6♣               9.63% win   9.99% tie\n",
      "CPU times: user 46 s, sys: 121 ms, total: 46.1 s\n",
      "Wall time: 46.7 s\n"
     ]
    }
   ],
   "source": [
    "%%time\n",
    "game = Game([ Player(i) for i in range(5) ])\n",
    "game.compulsory_bets()\n",
    "game.pre_flop()\n",
    "print(game)\n",
    "game.hand_summary()"
   ]
  },
  {
   "cell_type": "code",
   "execution_count": 25,
   "metadata": {},
   "outputs": [
    {
     "name": "stdout",
     "output_type": "stream",
     "text": [
      "flop Q♠,6♠,K♥\n",
      "3: A♦,6♣              46.15% win   5.26% tie\n",
      "4: J♥,9♥              22.67% win   3.51% tie\n",
      "0: A♠,9♣              12.69% win   3.64% tie\n",
      "2: 3♣,6♥               8.64% win   1.62% tie\n",
      "1: J♦,5♥               1.08% win   3.51% tie\n",
      "CPU times: user 3.27 s, sys: 6.38 ms, total: 3.28 s\n",
      "Wall time: 3.28 s\n"
     ]
    }
   ],
   "source": [
    "%%time\n",
    "game.flop()\n",
    "print(game)\n",
    "game.hand_summary()"
   ]
  },
  {
   "cell_type": "code",
   "execution_count": 26,
   "metadata": {},
   "outputs": [
    {
     "name": "stdout",
     "output_type": "stream",
     "text": [
      "turn Q♠,6♠,K♥,7♣\n",
      "3: A♦,6♣              71.05% win   0.00% tie\n",
      "4: J♥,9♥              15.79% win   0.00% tie\n",
      "2: 3♣,6♥               7.89% win   0.00% tie\n",
      "0: A♠,9♣               5.26% win   0.00% tie\n",
      "1: J♦,5♥               0.00% win   0.00% tie\n",
      "CPU times: user 192 ms, sys: 3.55 ms, total: 196 ms\n",
      "Wall time: 199 ms\n"
     ]
    }
   ],
   "source": [
    "%%time\n",
    "game.turn()\n",
    "print(game)\n",
    "game.hand_summary()"
   ]
  },
  {
   "cell_type": "code",
   "execution_count": 27,
   "metadata": {},
   "outputs": [
    {
     "name": "stdout",
     "output_type": "stream",
     "text": [
      "river Q♠,6♠,K♥,7♣,7♦\n",
      "3: A♦,6♣             100.00% win   0.00% tie     7♣,7♦,6♣,6♠,A♦ (seven up, ace kicker)\n",
      "0: A♠,9♣               0.00% win   0.00% tie     7♣,7♦,A♠,K♥,Q♠ (pair seven, ace, king, queen kickers)\n",
      "1: J♦,5♥               0.00% win   0.00% tie     7♣,7♦,K♥,Q♠,J♦ (pair seven, king, queen, jack kickers)\n",
      "2: 3♣,6♥               0.00% win   0.00% tie     7♣,7♦,6♥,6♠,K♥ (seven up, king kicker)\n",
      "4: J♥,9♥               0.00% win   0.00% tie     7♣,7♦,K♥,Q♠,J♥ (pair seven, king, queen, jack kickers)\n",
      "CPU times: user 12.4 ms, sys: 1.21 ms, total: 13.6 ms\n",
      "Wall time: 14.2 ms\n"
     ]
    }
   ],
   "source": [
    "%%time\n",
    "game.river()\n",
    "print(game)\n",
    "game.hand_summary()"
   ]
  },
  {
   "cell_type": "code",
   "execution_count": 28,
   "metadata": {},
   "outputs": [
    {
     "data": {
      "text/plain": [
       "[(<Player id 0, pocket [<Card A♠>, <Card 9♣>]>, 0.0, 0.0),\n",
       " (<Player id 1, pocket [<Card J♦>, <Card 5♥>]>, 0.0, 0.0),\n",
       " (<Player id 2, pocket [<Card 3♣>, <Card 6♥>]>, 0.0, 0.0),\n",
       " (<Player id 3, pocket [<Card A♦>, <Card 6♣>]>, 1.0, 0.0),\n",
       " (<Player id 4, pocket [<Card J♥>, <Card 9♥>]>, 0.0, 0.0)]"
      ]
     },
     "execution_count": 28,
     "metadata": {},
     "output_type": "execute_result"
    }
   ],
   "source": [
    "game.player_odds()"
   ]
  },
  {
   "cell_type": "code",
   "execution_count": 29,
   "metadata": {},
   "outputs": [],
   "source": [
    "def test_game_run(players, board):\n",
    "    test_game = Game(players, board=[])\n",
    "    test_game.hand_summary()\n",
    "    print()\n",
    "    test_game = Game(players, board=board[:3])\n",
    "    test_game.hand_summary()\n",
    "    print()\n",
    "    test_game = Game(players, board=board[:4])\n",
    "    test_game.hand_summary()\n",
    "    print()\n",
    "    test_game = Game(players, board=board)\n",
    "    test_game.hand_summary()"
   ]
  },
  {
   "cell_type": "code",
   "execution_count": 30,
   "metadata": {},
   "outputs": [
    {
     "name": "stdout",
     "output_type": "stream",
     "text": [
      "McClean: A♠,A♥        83.44% win   0.18% tie\n",
      "Negreanu: Q♦,10♣      16.38% win   0.18% tie\n",
      "\n",
      "McClean: A♠,A♥        82.42% win   0.00% tie\n",
      "Negreanu: Q♦,10♣      17.58% win   0.00% tie\n",
      "\n",
      "McClean: A♠,A♥        88.64% win   0.00% tie\n",
      "Negreanu: Q♦,10♣      11.36% win   0.00% tie\n",
      "\n",
      "McClean: A♠,A♥       100.00% win   0.00% tie     A♠,A♥,5♠,5♦,Q♠ (ace up, queen kicker)\n",
      "Negreanu: Q♦,10♣       0.00% win   0.00% tie    Q♦,Q♠,5♠,5♦,10♣ (queen up, ten kicker)\n"
     ]
    }
   ],
   "source": [
    "players = [Player(\"McClean\", pocket=[ Card.from_string('AS'), Card.from_string('AH') ]), \n",
    "           Player(\"Negreanu\", pocket=[ Card.from_string('QD'), Card.from_string('10C') ])]\n",
    "board = [ Card.from_string('4H'), Card.from_string('QS'), Card.from_string('5S'), Card.from_string('2C'), Card.from_string('5D') ]\n",
    "test_game_run(players, board)"
   ]
  },
  {
   "cell_type": "code",
   "execution_count": 31,
   "metadata": {},
   "outputs": [
    {
     "name": "stdout",
     "output_type": "stream",
     "text": [
      "Sexton: K♠,K♥         85.17% win   0.50% tie\n",
      "Negreanu: Q♥,2♥       14.33% win   0.50% tie\n",
      "\n",
      "Sexton: K♠,K♥         90.30% win   4.55% tie\n",
      "Negreanu: Q♥,2♥        5.15% win   4.55% tie\n",
      "\n",
      "Sexton: K♠,K♥         88.64% win   0.00% tie\n",
      "Negreanu: Q♥,2♥       11.36% win   0.00% tie\n",
      "\n",
      "Sexton: K♠,K♥        100.00% win   0.00% tie     K♠,K♥,5♠,5♥,7♣ (king up, seven kicker)\n",
      "Negreanu: Q♥,2♥        0.00% win   0.00% tie     5♠,5♥,2♥,2♣,Q♥ (five up, queen kicker)\n"
     ]
    }
   ],
   "source": [
    "players = [Player(\"Sexton\", pocket=[ Card.from_string('ks'), Card.from_string('kh') ]), \n",
    "           Player(\"Negreanu\", pocket=[ Card.from_string('qh'), Card.from_string('2h') ])]\n",
    "board = [ Card.from_string('5S'), Card.from_string('7C'), Card.from_string('6h'), Card.from_string('2C'), Card.from_string('5h') ]\n",
    "test_game_run(players, board)"
   ]
  },
  {
   "cell_type": "code",
   "execution_count": 32,
   "metadata": {},
   "outputs": [
    {
     "name": "stdout",
     "output_type": "stream",
     "text": [
      "Alice: K♦,K♥          85.21% win   0.49% tie\n",
      "Bob: Q♥,2♥            14.30% win   0.49% tie\n",
      "\n",
      "Alice: K♦,K♥          93.84% win   6.06% tie\n",
      "Bob: Q♥,2♥             0.10% win   6.06% tie\n",
      "\n",
      "Alice: K♦,K♥          72.73% win  27.27% tie\n",
      "Bob: Q♥,2♥             0.00% win  27.27% tie\n",
      "\n",
      "Alice: K♦,K♥           0.00% win 100.00% tie    10♠,J♠,Q♠,K♠,A♠ (royal flush)\n",
      "Bob: Q♥,2♥             0.00% win 100.00% tie    10♠,J♠,Q♠,K♠,A♠ (royal flush)\n"
     ]
    }
   ],
   "source": [
    "players = [Player(\"Alice\", pocket=[ Card.from_string('kd'), Card.from_string('kh') ]), \n",
    "           Player(\"Bob\", pocket=[ Card.from_string('qh'), Card.from_string('2h') ])]\n",
    "board = [ Card.from_string('AS'), Card.from_string('KS'), Card.from_string('QS'), Card.from_string('JS'), Card.from_string('10S') ]\n",
    "test_game_run(players, board)"
   ]
  }
 ],
 "metadata": {
  "kernelspec": {
   "display_name": "Python 3",
   "language": "python",
   "name": "python3"
  },
  "language_info": {
   "codemirror_mode": {
    "name": "ipython",
    "version": 3
   },
   "file_extension": ".py",
   "mimetype": "text/x-python",
   "name": "python",
   "nbconvert_exporter": "python",
   "pygments_lexer": "ipython3",
   "version": "3.7.6"
  }
 },
 "nbformat": 4,
 "nbformat_minor": 2
}
